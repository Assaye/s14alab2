{
 "cells": [
  {
   "cell_type": "markdown",
   "metadata": {},
   "source": [
    "## S14a: Lab 2 - Pricing, houses\n"
   ]
  },
  {
   "cell_type": "markdown",
   "metadata": {},
   "source": [
    "### 1. Let's start by reading in our data"
   ]
  },
  {
   "cell_type": "code",
   "execution_count": 4,
   "metadata": {
    "pycharm": {
     "name": "#%%\n"
    }
   },
   "outputs": [],
   "source": [
    "# Imports\n",
    "\n",
    "import numpy as np\n",
    "import pandas as pd"
   ]
  },
  {
   "cell_type": "code",
   "execution_count": 5,
   "metadata": {
    "pycharm": {
     "name": "#%%\n"
    },
    "scrolled": true
   },
   "outputs": [
    {
     "data": {
      "text/html": [
       "<div>\n",
       "<style scoped>\n",
       "    .dataframe tbody tr th:only-of-type {\n",
       "        vertical-align: middle;\n",
       "    }\n",
       "\n",
       "    .dataframe tbody tr th {\n",
       "        vertical-align: top;\n",
       "    }\n",
       "\n",
       "    .dataframe thead th {\n",
       "        text-align: right;\n",
       "    }\n",
       "</style>\n",
       "<table border=\"1\" class=\"dataframe\">\n",
       "  <thead>\n",
       "    <tr style=\"text-align: right;\">\n",
       "      <th></th>\n",
       "      <th>MLSNUM</th>\n",
       "      <th>STATUS</th>\n",
       "      <th>LISTPRICE</th>\n",
       "      <th>SOLDPRICE</th>\n",
       "      <th>LISTDATE</th>\n",
       "      <th>SOLDDATE</th>\n",
       "      <th>EXPIREDDATE</th>\n",
       "      <th>DOM</th>\n",
       "      <th>DTO</th>\n",
       "      <th>ADDRESS</th>\n",
       "      <th>...</th>\n",
       "      <th>COOLING</th>\n",
       "      <th>ELEMENTARYSCHOOL</th>\n",
       "      <th>JUNIORHIGHSCHOOL</th>\n",
       "      <th>HIGHSCHOOL</th>\n",
       "      <th>OTHERFEATURES</th>\n",
       "      <th>PROPTYPE</th>\n",
       "      <th>STREETNAME</th>\n",
       "      <th>HOUSENUM1</th>\n",
       "      <th>HOUSENUM2</th>\n",
       "      <th>PHOTOURL</th>\n",
       "    </tr>\n",
       "  </thead>\n",
       "  <tbody>\n",
       "    <tr>\n",
       "      <th>0</th>\n",
       "      <td>72049670</td>\n",
       "      <td>SLD</td>\n",
       "      <td>239900.0</td>\n",
       "      <td>247000.0</td>\n",
       "      <td>8/6/2016</td>\n",
       "      <td>3/1/2018</td>\n",
       "      <td>NaN</td>\n",
       "      <td>295</td>\n",
       "      <td>295</td>\n",
       "      <td>16 Pine St</td>\n",
       "      <td>...</td>\n",
       "      <td>NaN</td>\n",
       "      <td>NaN</td>\n",
       "      <td>NaN</td>\n",
       "      <td>NaN</td>\n",
       "      <td>NaN</td>\n",
       "      <td>MF</td>\n",
       "      <td>Pine St</td>\n",
       "      <td>16</td>\n",
       "      <td>16</td>\n",
       "      <td>http://media.mlspin.com/photo.aspx?mls=72049670</td>\n",
       "    </tr>\n",
       "    <tr>\n",
       "      <th>1</th>\n",
       "      <td>72056522</td>\n",
       "      <td>SLD</td>\n",
       "      <td>338000.0</td>\n",
       "      <td>338000.0</td>\n",
       "      <td>8/22/2016</td>\n",
       "      <td>3/1/2018</td>\n",
       "      <td>NaN</td>\n",
       "      <td>545</td>\n",
       "      <td>515</td>\n",
       "      <td>80 Cherry Drive</td>\n",
       "      <td>...</td>\n",
       "      <td>NaN</td>\n",
       "      <td>NaN</td>\n",
       "      <td>NaN</td>\n",
       "      <td>NaN</td>\n",
       "      <td>Basement:Yes;Fireplaces:1;Roof:Asphalt/Fibergl...</td>\n",
       "      <td>CC</td>\n",
       "      <td>Cherry Drive</td>\n",
       "      <td>80</td>\n",
       "      <td>80</td>\n",
       "      <td>http://media.mlspin.com/photo.aspx?mls=72056522</td>\n",
       "    </tr>\n",
       "    <tr>\n",
       "      <th>2</th>\n",
       "      <td>72080286</td>\n",
       "      <td>SLD</td>\n",
       "      <td>2999999.0</td>\n",
       "      <td>2950000.0</td>\n",
       "      <td>10/12/2016</td>\n",
       "      <td>3/1/2018</td>\n",
       "      <td>NaN</td>\n",
       "      <td>504</td>\n",
       "      <td>493</td>\n",
       "      <td>80 Monadnock Road</td>\n",
       "      <td>...</td>\n",
       "      <td>NaN</td>\n",
       "      <td>WPS</td>\n",
       "      <td>WMS</td>\n",
       "      <td>WHS</td>\n",
       "      <td>Basement:Yes;Fireplaces:3;Roof:Asphalt/Fibergl...</td>\n",
       "      <td>SF</td>\n",
       "      <td>Monadnock Road</td>\n",
       "      <td>80</td>\n",
       "      <td>80</td>\n",
       "      <td>http://media.mlspin.com/photo.aspx?mls=72080286</td>\n",
       "    </tr>\n",
       "    <tr>\n",
       "      <th>3</th>\n",
       "      <td>72118879</td>\n",
       "      <td>SLD</td>\n",
       "      <td>2600000.0</td>\n",
       "      <td>2600000.0</td>\n",
       "      <td>2/14/2017</td>\n",
       "      <td>3/1/2018</td>\n",
       "      <td>NaN</td>\n",
       "      <td>28</td>\n",
       "      <td>14</td>\n",
       "      <td>15 Trevino Circle</td>\n",
       "      <td>...</td>\n",
       "      <td>NaN</td>\n",
       "      <td>West Elementary</td>\n",
       "      <td>West Middle</td>\n",
       "      <td>Andover High</td>\n",
       "      <td>Basement:Yes;Fireplaces:3;Roof:--;Floor:--;App...</td>\n",
       "      <td>SF</td>\n",
       "      <td>Trevino Circle</td>\n",
       "      <td>15</td>\n",
       "      <td>15</td>\n",
       "      <td>http://media.mlspin.com/photo.aspx?mls=72118879</td>\n",
       "    </tr>\n",
       "    <tr>\n",
       "      <th>4</th>\n",
       "      <td>72124101</td>\n",
       "      <td>SLD</td>\n",
       "      <td>525000.0</td>\n",
       "      <td>525000.0</td>\n",
       "      <td>2/28/2017</td>\n",
       "      <td>3/1/2018</td>\n",
       "      <td>NaN</td>\n",
       "      <td>867</td>\n",
       "      <td>287</td>\n",
       "      <td>53 Maple Ridge Rd</td>\n",
       "      <td>...</td>\n",
       "      <td>NaN</td>\n",
       "      <td>NaN</td>\n",
       "      <td>NaN</td>\n",
       "      <td>Northampton</td>\n",
       "      <td>Basement:Yes;Fireplaces:1;Roof:Asphalt/Fibergl...</td>\n",
       "      <td>SF</td>\n",
       "      <td>Maple Ridge Rd</td>\n",
       "      <td>53</td>\n",
       "      <td>53</td>\n",
       "      <td>http://media.mlspin.com/photo.aspx?mls=72124101</td>\n",
       "    </tr>\n",
       "  </tbody>\n",
       "</table>\n",
       "<p>5 rows × 38 columns</p>\n",
       "</div>"
      ],
      "text/plain": [
       "     MLSNUM STATUS  LISTPRICE  SOLDPRICE    LISTDATE  SOLDDATE  EXPIREDDATE  \\\n",
       "0  72049670    SLD   239900.0   247000.0    8/6/2016  3/1/2018          NaN   \n",
       "1  72056522    SLD   338000.0   338000.0   8/22/2016  3/1/2018          NaN   \n",
       "2  72080286    SLD  2999999.0  2950000.0  10/12/2016  3/1/2018          NaN   \n",
       "3  72118879    SLD  2600000.0  2600000.0   2/14/2017  3/1/2018          NaN   \n",
       "4  72124101    SLD   525000.0   525000.0   2/28/2017  3/1/2018          NaN   \n",
       "\n",
       "   DOM  DTO            ADDRESS  ... COOLING ELEMENTARYSCHOOL  \\\n",
       "0  295  295         16 Pine St  ...     NaN              NaN   \n",
       "1  545  515    80 Cherry Drive  ...     NaN              NaN   \n",
       "2  504  493  80 Monadnock Road  ...     NaN              WPS   \n",
       "3   28   14  15 Trevino Circle  ...     NaN  West Elementary   \n",
       "4  867  287  53 Maple Ridge Rd  ...     NaN              NaN   \n",
       "\n",
       "   JUNIORHIGHSCHOOL    HIGHSCHOOL  \\\n",
       "0               NaN           NaN   \n",
       "1               NaN           NaN   \n",
       "2               WMS           WHS   \n",
       "3       West Middle  Andover High   \n",
       "4               NaN   Northampton   \n",
       "\n",
       "                                       OTHERFEATURES  PROPTYPE  \\\n",
       "0                                                NaN        MF   \n",
       "1  Basement:Yes;Fireplaces:1;Roof:Asphalt/Fibergl...        CC   \n",
       "2  Basement:Yes;Fireplaces:3;Roof:Asphalt/Fibergl...        SF   \n",
       "3  Basement:Yes;Fireplaces:3;Roof:--;Floor:--;App...        SF   \n",
       "4  Basement:Yes;Fireplaces:1;Roof:Asphalt/Fibergl...        SF   \n",
       "\n",
       "       STREETNAME  HOUSENUM1  HOUSENUM2  \\\n",
       "0         Pine St         16         16   \n",
       "1    Cherry Drive         80         80   \n",
       "2  Monadnock Road         80         80   \n",
       "3  Trevino Circle         15         15   \n",
       "4  Maple Ridge Rd         53         53   \n",
       "\n",
       "                                          PHOTOURL  \n",
       "0  http://media.mlspin.com/photo.aspx?mls=72049670  \n",
       "1  http://media.mlspin.com/photo.aspx?mls=72056522  \n",
       "2  http://media.mlspin.com/photo.aspx?mls=72080286  \n",
       "3  http://media.mlspin.com/photo.aspx?mls=72118879  \n",
       "4  http://media.mlspin.com/photo.aspx?mls=72124101  \n",
       "\n",
       "[5 rows x 38 columns]"
      ]
     },
     "execution_count": 5,
     "metadata": {},
     "output_type": "execute_result"
    }
   ],
   "source": [
    "# Read in data with pandas\n",
    "\n",
    "data = pd.read_csv('./data/Boston_March2018.csv')\n",
    "\n",
    "# Preview\n",
    "\n",
    "data.head()    # head - first 5 rows \n",
    "# data.tail()  # tail - last 5 rows \n"
   ]
  },
  {
   "cell_type": "code",
   "execution_count": 6,
   "metadata": {},
   "outputs": [
    {
     "data": {
      "text/html": [
       "<div>\n",
       "<style scoped>\n",
       "    .dataframe tbody tr th:only-of-type {\n",
       "        vertical-align: middle;\n",
       "    }\n",
       "\n",
       "    .dataframe tbody tr th {\n",
       "        vertical-align: top;\n",
       "    }\n",
       "\n",
       "    .dataframe thead th {\n",
       "        text-align: right;\n",
       "    }\n",
       "</style>\n",
       "<table border=\"1\" class=\"dataframe\">\n",
       "  <thead>\n",
       "    <tr style=\"text-align: right;\">\n",
       "      <th></th>\n",
       "      <th>MLSNUM</th>\n",
       "      <th>STATUS</th>\n",
       "      <th>LISTPRICE</th>\n",
       "      <th>SOLDPRICE</th>\n",
       "      <th>LISTDATE</th>\n",
       "      <th>SOLDDATE</th>\n",
       "      <th>EXPIREDDATE</th>\n",
       "      <th>DOM</th>\n",
       "      <th>DTO</th>\n",
       "      <th>ADDRESS</th>\n",
       "      <th>...</th>\n",
       "      <th>COOLING</th>\n",
       "      <th>ELEMENTARYSCHOOL</th>\n",
       "      <th>JUNIORHIGHSCHOOL</th>\n",
       "      <th>HIGHSCHOOL</th>\n",
       "      <th>OTHERFEATURES</th>\n",
       "      <th>PROPTYPE</th>\n",
       "      <th>STREETNAME</th>\n",
       "      <th>HOUSENUM1</th>\n",
       "      <th>HOUSENUM2</th>\n",
       "      <th>PHOTOURL</th>\n",
       "    </tr>\n",
       "  </thead>\n",
       "  <tbody>\n",
       "    <tr>\n",
       "      <th>0</th>\n",
       "      <td>72049670</td>\n",
       "      <td>SLD</td>\n",
       "      <td>239900.0</td>\n",
       "      <td>247000.0</td>\n",
       "      <td>8/6/2016</td>\n",
       "      <td>3/1/2018</td>\n",
       "      <td>NaN</td>\n",
       "      <td>295</td>\n",
       "      <td>295</td>\n",
       "      <td>16 Pine St</td>\n",
       "      <td>...</td>\n",
       "      <td>NaN</td>\n",
       "      <td>NaN</td>\n",
       "      <td>NaN</td>\n",
       "      <td>NaN</td>\n",
       "      <td>NaN</td>\n",
       "      <td>MF</td>\n",
       "      <td>Pine St</td>\n",
       "      <td>16</td>\n",
       "      <td>16</td>\n",
       "      <td>http://media.mlspin.com/photo.aspx?mls=72049670</td>\n",
       "    </tr>\n",
       "    <tr>\n",
       "      <th>1</th>\n",
       "      <td>72056522</td>\n",
       "      <td>SLD</td>\n",
       "      <td>338000.0</td>\n",
       "      <td>338000.0</td>\n",
       "      <td>8/22/2016</td>\n",
       "      <td>3/1/2018</td>\n",
       "      <td>NaN</td>\n",
       "      <td>545</td>\n",
       "      <td>515</td>\n",
       "      <td>80 Cherry Drive</td>\n",
       "      <td>...</td>\n",
       "      <td>NaN</td>\n",
       "      <td>NaN</td>\n",
       "      <td>NaN</td>\n",
       "      <td>NaN</td>\n",
       "      <td>Basement:Yes;Fireplaces:1;Roof:Asphalt/Fibergl...</td>\n",
       "      <td>CC</td>\n",
       "      <td>Cherry Drive</td>\n",
       "      <td>80</td>\n",
       "      <td>80</td>\n",
       "      <td>http://media.mlspin.com/photo.aspx?mls=72056522</td>\n",
       "    </tr>\n",
       "  </tbody>\n",
       "</table>\n",
       "<p>2 rows × 38 columns</p>\n",
       "</div>"
      ],
      "text/plain": [
       "     MLSNUM STATUS  LISTPRICE  SOLDPRICE   LISTDATE  SOLDDATE  EXPIREDDATE  \\\n",
       "0  72049670    SLD   239900.0   247000.0   8/6/2016  3/1/2018          NaN   \n",
       "1  72056522    SLD   338000.0   338000.0  8/22/2016  3/1/2018          NaN   \n",
       "\n",
       "   DOM  DTO          ADDRESS  ... COOLING ELEMENTARYSCHOOL  JUNIORHIGHSCHOOL  \\\n",
       "0  295  295       16 Pine St  ...     NaN              NaN               NaN   \n",
       "1  545  515  80 Cherry Drive  ...     NaN              NaN               NaN   \n",
       "\n",
       "  HIGHSCHOOL                                      OTHERFEATURES  PROPTYPE  \\\n",
       "0        NaN                                                NaN        MF   \n",
       "1        NaN  Basement:Yes;Fireplaces:1;Roof:Asphalt/Fibergl...        CC   \n",
       "\n",
       "     STREETNAME  HOUSENUM1  HOUSENUM2  \\\n",
       "0       Pine St         16         16   \n",
       "1  Cherry Drive         80         80   \n",
       "\n",
       "                                          PHOTOURL  \n",
       "0  http://media.mlspin.com/photo.aspx?mls=72049670  \n",
       "1  http://media.mlspin.com/photo.aspx?mls=72056522  \n",
       "\n",
       "[2 rows x 38 columns]"
      ]
     },
     "execution_count": 6,
     "metadata": {},
     "output_type": "execute_result"
    }
   ],
   "source": [
    "data.head (2)"
   ]
  },
  {
   "cell_type": "code",
   "execution_count": 7,
   "metadata": {},
   "outputs": [
    {
     "data": {
      "text/plain": [
       "(5171, 38)"
      ]
     },
     "execution_count": 7,
     "metadata": {},
     "output_type": "execute_result"
    }
   ],
   "source": [
    "np.shape(data)"
   ]
  },
  {
   "cell_type": "code",
   "execution_count": 8,
   "metadata": {},
   "outputs": [
    {
     "data": {
      "text/plain": [
       "(5171, 38)"
      ]
     },
     "execution_count": 8,
     "metadata": {},
     "output_type": "execute_result"
    }
   ],
   "source": [
    "data.shape"
   ]
  },
  {
   "cell_type": "code",
   "execution_count": 9,
   "metadata": {},
   "outputs": [
    {
     "data": {
      "text/plain": [
       "Index(['MLSNUM', 'STATUS', 'LISTPRICE', 'SOLDPRICE', 'LISTDATE', 'SOLDDATE',\n",
       "       'EXPIREDDATE', 'DOM', 'DTO', 'ADDRESS', 'CITY', 'STATE', 'ZIP', 'AREA',\n",
       "       'BEDS', 'BATHS', 'SQFT', 'AGE', 'LOTSIZE', 'AGENTNAME', 'OFFICENAME',\n",
       "       'OFFICEPHONE', 'SHOWINGINSTRUCTIONS', 'REMARKS', 'STYLE', 'LEVEL',\n",
       "       'GARAGE', 'HEATING', 'COOLING', 'ELEMENTARYSCHOOL', 'JUNIORHIGHSCHOOL',\n",
       "       'HIGHSCHOOL', 'OTHERFEATURES', 'PROPTYPE', 'STREETNAME', 'HOUSENUM1',\n",
       "       'HOUSENUM2', 'PHOTOURL'],\n",
       "      dtype='object')"
      ]
     },
     "execution_count": 9,
     "metadata": {},
     "output_type": "execute_result"
    }
   ],
   "source": [
    "data.columns"
   ]
  },
  {
   "cell_type": "code",
   "execution_count": 10,
   "metadata": {},
   "outputs": [
    {
     "data": {
      "text/html": [
       "<div>\n",
       "<style scoped>\n",
       "    .dataframe tbody tr th:only-of-type {\n",
       "        vertical-align: middle;\n",
       "    }\n",
       "\n",
       "    .dataframe tbody tr th {\n",
       "        vertical-align: top;\n",
       "    }\n",
       "\n",
       "    .dataframe thead th {\n",
       "        text-align: right;\n",
       "    }\n",
       "</style>\n",
       "<table border=\"1\" class=\"dataframe\">\n",
       "  <thead>\n",
       "    <tr style=\"text-align: right;\">\n",
       "      <th></th>\n",
       "      <th>MLSNUM</th>\n",
       "      <th>STATUS</th>\n",
       "      <th>LISTPRICE</th>\n",
       "      <th>SOLDPRICE</th>\n",
       "      <th>LISTDATE</th>\n",
       "      <th>SOLDDATE</th>\n",
       "      <th>EXPIREDDATE</th>\n",
       "      <th>DOM</th>\n",
       "      <th>DTO</th>\n",
       "      <th>ADDRESS</th>\n",
       "      <th>...</th>\n",
       "      <th>COOLING</th>\n",
       "      <th>ELEMENTARYSCHOOL</th>\n",
       "      <th>JUNIORHIGHSCHOOL</th>\n",
       "      <th>HIGHSCHOOL</th>\n",
       "      <th>OTHERFEATURES</th>\n",
       "      <th>PROPTYPE</th>\n",
       "      <th>STREETNAME</th>\n",
       "      <th>HOUSENUM1</th>\n",
       "      <th>HOUSENUM2</th>\n",
       "      <th>PHOTOURL</th>\n",
       "    </tr>\n",
       "  </thead>\n",
       "  <tbody>\n",
       "    <tr>\n",
       "      <th>4000</th>\n",
       "      <td>72223804</td>\n",
       "      <td>SLD</td>\n",
       "      <td>479000.0</td>\n",
       "      <td>460000.0</td>\n",
       "      <td>9/6/2017</td>\n",
       "      <td>3/29/2018</td>\n",
       "      <td>NaN</td>\n",
       "      <td>139</td>\n",
       "      <td>125</td>\n",
       "      <td>122 Cardinal Way</td>\n",
       "      <td>...</td>\n",
       "      <td>NaN</td>\n",
       "      <td>Finn Ryan Elem</td>\n",
       "      <td>JFKMS</td>\n",
       "      <td>Northampton</td>\n",
       "      <td>Basement:Yes;Fireplaces:1;Roof:Asphalt/Fibergl...</td>\n",
       "      <td>SF</td>\n",
       "      <td>Cardinal Way</td>\n",
       "      <td>122</td>\n",
       "      <td>122</td>\n",
       "      <td>http://media.mlspin.com/photo.aspx?mls=72223804</td>\n",
       "    </tr>\n",
       "    <tr>\n",
       "      <th>4001</th>\n",
       "      <td>72223856</td>\n",
       "      <td>SLD</td>\n",
       "      <td>289999.0</td>\n",
       "      <td>289000.0</td>\n",
       "      <td>9/6/2017</td>\n",
       "      <td>3/30/2018</td>\n",
       "      <td>NaN</td>\n",
       "      <td>181</td>\n",
       "      <td>181</td>\n",
       "      <td>4 George Frost Dr</td>\n",
       "      <td>...</td>\n",
       "      <td>NaN</td>\n",
       "      <td>NaN</td>\n",
       "      <td>NaN</td>\n",
       "      <td>NaN</td>\n",
       "      <td>Basement:Yes;Fireplaces:1;Roof:Asphalt/Fibergl...</td>\n",
       "      <td>SF</td>\n",
       "      <td>George Frost Dr</td>\n",
       "      <td>4</td>\n",
       "      <td>4</td>\n",
       "      <td>http://media.mlspin.com/photo.aspx?mls=72223856</td>\n",
       "    </tr>\n",
       "    <tr>\n",
       "      <th>4002</th>\n",
       "      <td>72224217</td>\n",
       "      <td>SLD</td>\n",
       "      <td>325000.0</td>\n",
       "      <td>326000.0</td>\n",
       "      <td>9/6/2017</td>\n",
       "      <td>3/30/2018</td>\n",
       "      <td>NaN</td>\n",
       "      <td>181</td>\n",
       "      <td>166</td>\n",
       "      <td>14 Harrington Ave</td>\n",
       "      <td>...</td>\n",
       "      <td>NaN</td>\n",
       "      <td>Thoreau</td>\n",
       "      <td>CMS</td>\n",
       "      <td>CCHS</td>\n",
       "      <td>Basement:Yes;Fireplaces:0;Roof:Asphalt/Fibergl...</td>\n",
       "      <td>CC</td>\n",
       "      <td>Harrington Ave</td>\n",
       "      <td>14</td>\n",
       "      <td>14</td>\n",
       "      <td>http://media.mlspin.com/photo.aspx?mls=72224217</td>\n",
       "    </tr>\n",
       "    <tr>\n",
       "      <th>4003</th>\n",
       "      <td>72224258</td>\n",
       "      <td>SLD</td>\n",
       "      <td>417000.0</td>\n",
       "      <td>402500.0</td>\n",
       "      <td>9/6/2017</td>\n",
       "      <td>3/29/2018</td>\n",
       "      <td>NaN</td>\n",
       "      <td>155</td>\n",
       "      <td>140</td>\n",
       "      <td>21 Nottingham Dr</td>\n",
       "      <td>...</td>\n",
       "      <td>NaN</td>\n",
       "      <td>Kingston Elem</td>\n",
       "      <td>Kingston Middle</td>\n",
       "      <td>Silver Lake Reg</td>\n",
       "      <td>Basement:Yes;Fireplaces:1;Roof:Asphalt/Fibergl...</td>\n",
       "      <td>SF</td>\n",
       "      <td>Nottingham Dr</td>\n",
       "      <td>21</td>\n",
       "      <td>21</td>\n",
       "      <td>http://media.mlspin.com/photo.aspx?mls=72224258</td>\n",
       "    </tr>\n",
       "    <tr>\n",
       "      <th>4004</th>\n",
       "      <td>72224426</td>\n",
       "      <td>SLD</td>\n",
       "      <td>824900.0</td>\n",
       "      <td>785000.0</td>\n",
       "      <td>9/6/2017</td>\n",
       "      <td>3/30/2018</td>\n",
       "      <td>NaN</td>\n",
       "      <td>144</td>\n",
       "      <td>130</td>\n",
       "      <td>49 BAYBERRY</td>\n",
       "      <td>...</td>\n",
       "      <td>NaN</td>\n",
       "      <td>Cedar</td>\n",
       "      <td>HMS</td>\n",
       "      <td>HHS</td>\n",
       "      <td>Basement:Yes;Fireplaces:1;Roof:Asphalt/Fibergl...</td>\n",
       "      <td>SF</td>\n",
       "      <td>BAYBERRY</td>\n",
       "      <td>49</td>\n",
       "      <td>49</td>\n",
       "      <td>http://media.mlspin.com/photo.aspx?mls=72224426</td>\n",
       "    </tr>\n",
       "  </tbody>\n",
       "</table>\n",
       "<p>5 rows × 38 columns</p>\n",
       "</div>"
      ],
      "text/plain": [
       "        MLSNUM STATUS  LISTPRICE  SOLDPRICE  LISTDATE   SOLDDATE  EXPIREDDATE  \\\n",
       "4000  72223804    SLD   479000.0   460000.0  9/6/2017  3/29/2018          NaN   \n",
       "4001  72223856    SLD   289999.0   289000.0  9/6/2017  3/30/2018          NaN   \n",
       "4002  72224217    SLD   325000.0   326000.0  9/6/2017  3/30/2018          NaN   \n",
       "4003  72224258    SLD   417000.0   402500.0  9/6/2017  3/29/2018          NaN   \n",
       "4004  72224426    SLD   824900.0   785000.0  9/6/2017  3/30/2018          NaN   \n",
       "\n",
       "      DOM  DTO            ADDRESS  ... COOLING ELEMENTARYSCHOOL  \\\n",
       "4000  139  125   122 Cardinal Way  ...     NaN   Finn Ryan Elem   \n",
       "4001  181  181  4 George Frost Dr  ...     NaN              NaN   \n",
       "4002  181  166  14 Harrington Ave  ...     NaN          Thoreau   \n",
       "4003  155  140   21 Nottingham Dr  ...     NaN    Kingston Elem   \n",
       "4004  144  130        49 BAYBERRY  ...     NaN            Cedar   \n",
       "\n",
       "      JUNIORHIGHSCHOOL       HIGHSCHOOL  \\\n",
       "4000             JFKMS      Northampton   \n",
       "4001               NaN              NaN   \n",
       "4002               CMS             CCHS   \n",
       "4003   Kingston Middle  Silver Lake Reg   \n",
       "4004               HMS              HHS   \n",
       "\n",
       "                                          OTHERFEATURES  PROPTYPE  \\\n",
       "4000  Basement:Yes;Fireplaces:1;Roof:Asphalt/Fibergl...        SF   \n",
       "4001  Basement:Yes;Fireplaces:1;Roof:Asphalt/Fibergl...        SF   \n",
       "4002  Basement:Yes;Fireplaces:0;Roof:Asphalt/Fibergl...        CC   \n",
       "4003  Basement:Yes;Fireplaces:1;Roof:Asphalt/Fibergl...        SF   \n",
       "4004  Basement:Yes;Fireplaces:1;Roof:Asphalt/Fibergl...        SF   \n",
       "\n",
       "           STREETNAME  HOUSENUM1  HOUSENUM2  \\\n",
       "4000     Cardinal Way        122        122   \n",
       "4001  George Frost Dr          4          4   \n",
       "4002   Harrington Ave         14         14   \n",
       "4003    Nottingham Dr         21         21   \n",
       "4004         BAYBERRY         49         49   \n",
       "\n",
       "                                             PHOTOURL  \n",
       "4000  http://media.mlspin.com/photo.aspx?mls=72223804  \n",
       "4001  http://media.mlspin.com/photo.aspx?mls=72223856  \n",
       "4002  http://media.mlspin.com/photo.aspx?mls=72224217  \n",
       "4003  http://media.mlspin.com/photo.aspx?mls=72224258  \n",
       "4004  http://media.mlspin.com/photo.aspx?mls=72224426  \n",
       "\n",
       "[5 rows x 38 columns]"
      ]
     },
     "execution_count": 10,
     "metadata": {},
     "output_type": "execute_result"
    }
   ],
   "source": [
    "data.iloc[4000:].head()"
   ]
  },
  {
   "cell_type": "code",
   "execution_count": 11,
   "metadata": {},
   "outputs": [
    {
     "data": {
      "text/html": [
       "<div>\n",
       "<style scoped>\n",
       "    .dataframe tbody tr th:only-of-type {\n",
       "        vertical-align: middle;\n",
       "    }\n",
       "\n",
       "    .dataframe tbody tr th {\n",
       "        vertical-align: top;\n",
       "    }\n",
       "\n",
       "    .dataframe thead th {\n",
       "        text-align: right;\n",
       "    }\n",
       "</style>\n",
       "<table border=\"1\" class=\"dataframe\">\n",
       "  <thead>\n",
       "    <tr style=\"text-align: right;\">\n",
       "      <th></th>\n",
       "      <th>MLSNUM</th>\n",
       "      <th>STATUS</th>\n",
       "      <th>LISTPRICE</th>\n",
       "      <th>SOLDPRICE</th>\n",
       "      <th>LISTDATE</th>\n",
       "      <th>SOLDDATE</th>\n",
       "      <th>EXPIREDDATE</th>\n",
       "      <th>DOM</th>\n",
       "      <th>DTO</th>\n",
       "      <th>ADDRESS</th>\n",
       "      <th>...</th>\n",
       "      <th>COOLING</th>\n",
       "      <th>ELEMENTARYSCHOOL</th>\n",
       "      <th>JUNIORHIGHSCHOOL</th>\n",
       "      <th>HIGHSCHOOL</th>\n",
       "      <th>OTHERFEATURES</th>\n",
       "      <th>PROPTYPE</th>\n",
       "      <th>STREETNAME</th>\n",
       "      <th>HOUSENUM1</th>\n",
       "      <th>HOUSENUM2</th>\n",
       "      <th>PHOTOURL</th>\n",
       "    </tr>\n",
       "  </thead>\n",
       "  <tbody>\n",
       "    <tr>\n",
       "      <th>400</th>\n",
       "      <td>72264930</td>\n",
       "      <td>SLD</td>\n",
       "      <td>339000.0</td>\n",
       "      <td>329000.0</td>\n",
       "      <td>12/18/2017</td>\n",
       "      <td>3/2/2018</td>\n",
       "      <td>NaN</td>\n",
       "      <td>41</td>\n",
       "      <td>27</td>\n",
       "      <td>69 Plain St</td>\n",
       "      <td>...</td>\n",
       "      <td>NaN</td>\n",
       "      <td>NaN</td>\n",
       "      <td>NaN</td>\n",
       "      <td>NaN</td>\n",
       "      <td>NaN</td>\n",
       "      <td>MF</td>\n",
       "      <td>Plain St</td>\n",
       "      <td>69</td>\n",
       "      <td>69</td>\n",
       "      <td>http://media.mlspin.com/photo.aspx?mls=72264930</td>\n",
       "    </tr>\n",
       "    <tr>\n",
       "      <th>401</th>\n",
       "      <td>72265392</td>\n",
       "      <td>SLD</td>\n",
       "      <td>239900.0</td>\n",
       "      <td>243800.0</td>\n",
       "      <td>12/20/2017</td>\n",
       "      <td>3/2/2018</td>\n",
       "      <td>NaN</td>\n",
       "      <td>30</td>\n",
       "      <td>30</td>\n",
       "      <td>57 Farrar Ave</td>\n",
       "      <td>...</td>\n",
       "      <td>NaN</td>\n",
       "      <td>NaN</td>\n",
       "      <td>NaN</td>\n",
       "      <td>NaN</td>\n",
       "      <td>NaN</td>\n",
       "      <td>MF</td>\n",
       "      <td>Farrar Ave</td>\n",
       "      <td>57</td>\n",
       "      <td>57</td>\n",
       "      <td>http://media.mlspin.com/photo.aspx?mls=72265392</td>\n",
       "    </tr>\n",
       "    <tr>\n",
       "      <th>402</th>\n",
       "      <td>72265427</td>\n",
       "      <td>SLD</td>\n",
       "      <td>274900.0</td>\n",
       "      <td>247000.0</td>\n",
       "      <td>12/20/2017</td>\n",
       "      <td>3/2/2018</td>\n",
       "      <td>NaN</td>\n",
       "      <td>23</td>\n",
       "      <td>23</td>\n",
       "      <td>713 Franklin Street</td>\n",
       "      <td>...</td>\n",
       "      <td>NaN</td>\n",
       "      <td>NaN</td>\n",
       "      <td>NaN</td>\n",
       "      <td>NaN</td>\n",
       "      <td>NaN</td>\n",
       "      <td>MF</td>\n",
       "      <td>Franklin Street</td>\n",
       "      <td>713</td>\n",
       "      <td>713</td>\n",
       "      <td>http://media.mlspin.com/photo.aspx?mls=72265427</td>\n",
       "    </tr>\n",
       "    <tr>\n",
       "      <th>403</th>\n",
       "      <td>72265443</td>\n",
       "      <td>SLD</td>\n",
       "      <td>219800.0</td>\n",
       "      <td>209500.0</td>\n",
       "      <td>12/20/2017</td>\n",
       "      <td>3/2/2018</td>\n",
       "      <td>NaN</td>\n",
       "      <td>57</td>\n",
       "      <td>42</td>\n",
       "      <td>65 Howland Rd</td>\n",
       "      <td>...</td>\n",
       "      <td>NaN</td>\n",
       "      <td>NaN</td>\n",
       "      <td>NaN</td>\n",
       "      <td>NaN</td>\n",
       "      <td>Basement:Yes;Fireplaces:0;Roof:Asphalt/Fibergl...</td>\n",
       "      <td>SF</td>\n",
       "      <td>Howland Rd</td>\n",
       "      <td>65</td>\n",
       "      <td>65</td>\n",
       "      <td>http://media.mlspin.com/photo.aspx?mls=72265443</td>\n",
       "    </tr>\n",
       "    <tr>\n",
       "      <th>404</th>\n",
       "      <td>72265794</td>\n",
       "      <td>SLD</td>\n",
       "      <td>49900.0</td>\n",
       "      <td>40000.0</td>\n",
       "      <td>12/23/2017</td>\n",
       "      <td>3/2/2018</td>\n",
       "      <td>NaN</td>\n",
       "      <td>45</td>\n",
       "      <td>45</td>\n",
       "      <td>278 Onota St</td>\n",
       "      <td>...</td>\n",
       "      <td>NaN</td>\n",
       "      <td>NaN</td>\n",
       "      <td>NaN</td>\n",
       "      <td>NaN</td>\n",
       "      <td>NaN</td>\n",
       "      <td>MF</td>\n",
       "      <td>Onota St</td>\n",
       "      <td>278</td>\n",
       "      <td>278</td>\n",
       "      <td>http://media.mlspin.com/photo.aspx?mls=72265794</td>\n",
       "    </tr>\n",
       "    <tr>\n",
       "      <th>405</th>\n",
       "      <td>72265946</td>\n",
       "      <td>SLD</td>\n",
       "      <td>459900.0</td>\n",
       "      <td>460000.0</td>\n",
       "      <td>12/26/2017</td>\n",
       "      <td>3/2/2018</td>\n",
       "      <td>NaN</td>\n",
       "      <td>30</td>\n",
       "      <td>16</td>\n",
       "      <td>27 Biscayne Ave</td>\n",
       "      <td>...</td>\n",
       "      <td>NaN</td>\n",
       "      <td>SHS</td>\n",
       "      <td>Belmonte</td>\n",
       "      <td>Lynnhurst</td>\n",
       "      <td>Basement:Yes;Fireplaces:2;Roof:Asphalt/Fibergl...</td>\n",
       "      <td>SF</td>\n",
       "      <td>Biscayne Ave</td>\n",
       "      <td>27</td>\n",
       "      <td>27</td>\n",
       "      <td>http://media.mlspin.com/photo.aspx?mls=72265946</td>\n",
       "    </tr>\n",
       "    <tr>\n",
       "      <th>406</th>\n",
       "      <td>72265995</td>\n",
       "      <td>SLD</td>\n",
       "      <td>225000.0</td>\n",
       "      <td>213900.0</td>\n",
       "      <td>12/26/2017</td>\n",
       "      <td>3/2/2018</td>\n",
       "      <td>NaN</td>\n",
       "      <td>18</td>\n",
       "      <td>18</td>\n",
       "      <td>19 Pleasant St</td>\n",
       "      <td>...</td>\n",
       "      <td>NaN</td>\n",
       "      <td>NaN</td>\n",
       "      <td>NaN</td>\n",
       "      <td>NaN</td>\n",
       "      <td>NaN</td>\n",
       "      <td>MF</td>\n",
       "      <td>Pleasant St</td>\n",
       "      <td>19</td>\n",
       "      <td>19</td>\n",
       "      <td>http://media.mlspin.com/photo.aspx?mls=72265995</td>\n",
       "    </tr>\n",
       "    <tr>\n",
       "      <th>407</th>\n",
       "      <td>72266305</td>\n",
       "      <td>SLD</td>\n",
       "      <td>299900.0</td>\n",
       "      <td>310000.0</td>\n",
       "      <td>12/28/2017</td>\n",
       "      <td>3/2/2018</td>\n",
       "      <td>NaN</td>\n",
       "      <td>19</td>\n",
       "      <td>5</td>\n",
       "      <td>325 Broadway</td>\n",
       "      <td>...</td>\n",
       "      <td>NaN</td>\n",
       "      <td>NaN</td>\n",
       "      <td>NaN</td>\n",
       "      <td>NaN</td>\n",
       "      <td>Basement:Yes;Fireplaces:1;Roof:Asphalt/Fibergl...</td>\n",
       "      <td>SF</td>\n",
       "      <td>Broadway</td>\n",
       "      <td>325</td>\n",
       "      <td>325</td>\n",
       "      <td>http://media.mlspin.com/photo.aspx?mls=72266305</td>\n",
       "    </tr>\n",
       "    <tr>\n",
       "      <th>408</th>\n",
       "      <td>72266544</td>\n",
       "      <td>SLD</td>\n",
       "      <td>230000.0</td>\n",
       "      <td>225500.0</td>\n",
       "      <td>12/29/2017</td>\n",
       "      <td>3/2/2018</td>\n",
       "      <td>NaN</td>\n",
       "      <td>19</td>\n",
       "      <td>5</td>\n",
       "      <td>43 Kendrick Ave</td>\n",
       "      <td>...</td>\n",
       "      <td>NaN</td>\n",
       "      <td>NaN</td>\n",
       "      <td>NaN</td>\n",
       "      <td>NaN</td>\n",
       "      <td>Basement:Yes;Fireplaces:2;Roof:Asphalt/Fibergl...</td>\n",
       "      <td>SF</td>\n",
       "      <td>Kendrick Ave</td>\n",
       "      <td>43</td>\n",
       "      <td>43</td>\n",
       "      <td>http://media.mlspin.com/photo.aspx?mls=72266544</td>\n",
       "    </tr>\n",
       "    <tr>\n",
       "      <th>409</th>\n",
       "      <td>72266848</td>\n",
       "      <td>SLD</td>\n",
       "      <td>335000.0</td>\n",
       "      <td>335000.0</td>\n",
       "      <td>1/1/2018</td>\n",
       "      <td>3/2/2018</td>\n",
       "      <td>NaN</td>\n",
       "      <td>23</td>\n",
       "      <td>6</td>\n",
       "      <td>918 Dighton Woods Circle</td>\n",
       "      <td>...</td>\n",
       "      <td>NaN</td>\n",
       "      <td>NaN</td>\n",
       "      <td>NaN</td>\n",
       "      <td>NaN</td>\n",
       "      <td>Basement:Yes;Fireplaces:0;Roof:Asphalt/Fibergl...</td>\n",
       "      <td>SF</td>\n",
       "      <td>Dighton Woods Circle</td>\n",
       "      <td>918</td>\n",
       "      <td>918</td>\n",
       "      <td>http://media.mlspin.com/photo.aspx?mls=72266848</td>\n",
       "    </tr>\n",
       "    <tr>\n",
       "      <th>410</th>\n",
       "      <td>72266992</td>\n",
       "      <td>SLD</td>\n",
       "      <td>449900.0</td>\n",
       "      <td>450000.0</td>\n",
       "      <td>1/2/2018</td>\n",
       "      <td>3/2/2018</td>\n",
       "      <td>NaN</td>\n",
       "      <td>21</td>\n",
       "      <td>7</td>\n",
       "      <td>74 SCHOOL STREET</td>\n",
       "      <td>...</td>\n",
       "      <td>NaN</td>\n",
       "      <td>Northeast</td>\n",
       "      <td>McDevitt Middle</td>\n",
       "      <td>Waltham High</td>\n",
       "      <td>Basement:Yes;Fireplaces:1;Roof:Rubber;Floor:Ha...</td>\n",
       "      <td>CC</td>\n",
       "      <td>SCHOOL STREET</td>\n",
       "      <td>74</td>\n",
       "      <td>74</td>\n",
       "      <td>http://media.mlspin.com/photo.aspx?mls=72266992</td>\n",
       "    </tr>\n",
       "  </tbody>\n",
       "</table>\n",
       "<p>11 rows × 38 columns</p>\n",
       "</div>"
      ],
      "text/plain": [
       "       MLSNUM STATUS  LISTPRICE  SOLDPRICE    LISTDATE  SOLDDATE  EXPIREDDATE  \\\n",
       "400  72264930    SLD   339000.0   329000.0  12/18/2017  3/2/2018          NaN   \n",
       "401  72265392    SLD   239900.0   243800.0  12/20/2017  3/2/2018          NaN   \n",
       "402  72265427    SLD   274900.0   247000.0  12/20/2017  3/2/2018          NaN   \n",
       "403  72265443    SLD   219800.0   209500.0  12/20/2017  3/2/2018          NaN   \n",
       "404  72265794    SLD    49900.0    40000.0  12/23/2017  3/2/2018          NaN   \n",
       "405  72265946    SLD   459900.0   460000.0  12/26/2017  3/2/2018          NaN   \n",
       "406  72265995    SLD   225000.0   213900.0  12/26/2017  3/2/2018          NaN   \n",
       "407  72266305    SLD   299900.0   310000.0  12/28/2017  3/2/2018          NaN   \n",
       "408  72266544    SLD   230000.0   225500.0  12/29/2017  3/2/2018          NaN   \n",
       "409  72266848    SLD   335000.0   335000.0    1/1/2018  3/2/2018          NaN   \n",
       "410  72266992    SLD   449900.0   450000.0    1/2/2018  3/2/2018          NaN   \n",
       "\n",
       "     DOM  DTO                   ADDRESS  ... COOLING ELEMENTARYSCHOOL  \\\n",
       "400   41   27               69 Plain St  ...     NaN              NaN   \n",
       "401   30   30             57 Farrar Ave  ...     NaN              NaN   \n",
       "402   23   23       713 Franklin Street  ...     NaN              NaN   \n",
       "403   57   42             65 Howland Rd  ...     NaN              NaN   \n",
       "404   45   45              278 Onota St  ...     NaN              NaN   \n",
       "405   30   16           27 Biscayne Ave  ...     NaN              SHS   \n",
       "406   18   18            19 Pleasant St  ...     NaN              NaN   \n",
       "407   19    5              325 Broadway  ...     NaN              NaN   \n",
       "408   19    5           43 Kendrick Ave  ...     NaN              NaN   \n",
       "409   23    6  918 Dighton Woods Circle  ...     NaN              NaN   \n",
       "410   21    7          74 SCHOOL STREET  ...     NaN        Northeast   \n",
       "\n",
       "     JUNIORHIGHSCHOOL    HIGHSCHOOL  \\\n",
       "400               NaN           NaN   \n",
       "401               NaN           NaN   \n",
       "402               NaN           NaN   \n",
       "403               NaN           NaN   \n",
       "404               NaN           NaN   \n",
       "405          Belmonte     Lynnhurst   \n",
       "406               NaN           NaN   \n",
       "407               NaN           NaN   \n",
       "408               NaN           NaN   \n",
       "409               NaN           NaN   \n",
       "410   McDevitt Middle  Waltham High   \n",
       "\n",
       "                                         OTHERFEATURES  PROPTYPE  \\\n",
       "400                                                NaN        MF   \n",
       "401                                                NaN        MF   \n",
       "402                                                NaN        MF   \n",
       "403  Basement:Yes;Fireplaces:0;Roof:Asphalt/Fibergl...        SF   \n",
       "404                                                NaN        MF   \n",
       "405  Basement:Yes;Fireplaces:2;Roof:Asphalt/Fibergl...        SF   \n",
       "406                                                NaN        MF   \n",
       "407  Basement:Yes;Fireplaces:1;Roof:Asphalt/Fibergl...        SF   \n",
       "408  Basement:Yes;Fireplaces:2;Roof:Asphalt/Fibergl...        SF   \n",
       "409  Basement:Yes;Fireplaces:0;Roof:Asphalt/Fibergl...        SF   \n",
       "410  Basement:Yes;Fireplaces:1;Roof:Rubber;Floor:Ha...        CC   \n",
       "\n",
       "               STREETNAME  HOUSENUM1  HOUSENUM2  \\\n",
       "400              Plain St         69         69   \n",
       "401            Farrar Ave         57         57   \n",
       "402       Franklin Street        713        713   \n",
       "403            Howland Rd         65         65   \n",
       "404              Onota St        278        278   \n",
       "405          Biscayne Ave         27         27   \n",
       "406           Pleasant St         19         19   \n",
       "407              Broadway        325        325   \n",
       "408          Kendrick Ave         43         43   \n",
       "409  Dighton Woods Circle        918        918   \n",
       "410         SCHOOL STREET         74         74   \n",
       "\n",
       "                                            PHOTOURL  \n",
       "400  http://media.mlspin.com/photo.aspx?mls=72264930  \n",
       "401  http://media.mlspin.com/photo.aspx?mls=72265392  \n",
       "402  http://media.mlspin.com/photo.aspx?mls=72265427  \n",
       "403  http://media.mlspin.com/photo.aspx?mls=72265443  \n",
       "404  http://media.mlspin.com/photo.aspx?mls=72265794  \n",
       "405  http://media.mlspin.com/photo.aspx?mls=72265946  \n",
       "406  http://media.mlspin.com/photo.aspx?mls=72265995  \n",
       "407  http://media.mlspin.com/photo.aspx?mls=72266305  \n",
       "408  http://media.mlspin.com/photo.aspx?mls=72266544  \n",
       "409  http://media.mlspin.com/photo.aspx?mls=72266848  \n",
       "410  http://media.mlspin.com/photo.aspx?mls=72266992  \n",
       "\n",
       "[11 rows x 38 columns]"
      ]
     },
     "execution_count": 11,
     "metadata": {},
     "output_type": "execute_result"
    }
   ],
   "source": [
    "data.iloc[400:411]"
   ]
  },
  {
   "cell_type": "code",
   "execution_count": 12,
   "metadata": {
    "pycharm": {
     "name": "#%%\n"
    },
    "scrolled": true
   },
   "outputs": [
    {
     "data": {
      "text/html": [
       "<div>\n",
       "<style scoped>\n",
       "    .dataframe tbody tr th:only-of-type {\n",
       "        vertical-align: middle;\n",
       "    }\n",
       "\n",
       "    .dataframe tbody tr th {\n",
       "        vertical-align: top;\n",
       "    }\n",
       "\n",
       "    .dataframe thead th {\n",
       "        text-align: right;\n",
       "    }\n",
       "</style>\n",
       "<table border=\"1\" class=\"dataframe\">\n",
       "  <thead>\n",
       "    <tr style=\"text-align: right;\">\n",
       "      <th></th>\n",
       "      <th>MLSNUM</th>\n",
       "      <th>STATUS</th>\n",
       "      <th>LISTPRICE</th>\n",
       "      <th>SOLDPRICE</th>\n",
       "      <th>LISTDATE</th>\n",
       "      <th>SOLDDATE</th>\n",
       "      <th>EXPIREDDATE</th>\n",
       "      <th>DOM</th>\n",
       "      <th>DTO</th>\n",
       "      <th>ADDRESS</th>\n",
       "      <th>...</th>\n",
       "      <th>COOLING</th>\n",
       "      <th>ELEMENTARYSCHOOL</th>\n",
       "      <th>JUNIORHIGHSCHOOL</th>\n",
       "      <th>HIGHSCHOOL</th>\n",
       "      <th>OTHERFEATURES</th>\n",
       "      <th>PROPTYPE</th>\n",
       "      <th>STREETNAME</th>\n",
       "      <th>HOUSENUM1</th>\n",
       "      <th>HOUSENUM2</th>\n",
       "      <th>PHOTOURL</th>\n",
       "    </tr>\n",
       "  </thead>\n",
       "  <tbody>\n",
       "    <tr>\n",
       "      <th>100</th>\n",
       "      <td>72253657</td>\n",
       "      <td>SLD</td>\n",
       "      <td>539000.0</td>\n",
       "      <td>530000.0</td>\n",
       "      <td>11/9/2017</td>\n",
       "      <td>3/1/2018</td>\n",
       "      <td>NaN</td>\n",
       "      <td>97</td>\n",
       "      <td>33</td>\n",
       "      <td>304 Neponset</td>\n",
       "      <td>...</td>\n",
       "      <td>NaN</td>\n",
       "      <td>NaN</td>\n",
       "      <td>NaN</td>\n",
       "      <td>NaN</td>\n",
       "      <td>Basement:Yes;Fireplaces:0;Roof:--;Floor:Hardwo...</td>\n",
       "      <td>CC</td>\n",
       "      <td>Neponset</td>\n",
       "      <td>304</td>\n",
       "      <td>304</td>\n",
       "      <td>http://media.mlspin.com/photo.aspx?mls=72253657</td>\n",
       "    </tr>\n",
       "    <tr>\n",
       "      <th>101</th>\n",
       "      <td>72255734</td>\n",
       "      <td>SLD</td>\n",
       "      <td>829000.0</td>\n",
       "      <td>787500.0</td>\n",
       "      <td>11/15/2017</td>\n",
       "      <td>3/1/2018</td>\n",
       "      <td>NaN</td>\n",
       "      <td>20</td>\n",
       "      <td>5</td>\n",
       "      <td>73 Thaxter St</td>\n",
       "      <td>...</td>\n",
       "      <td>NaN</td>\n",
       "      <td>Foster</td>\n",
       "      <td>Hingham Middle</td>\n",
       "      <td>Hingham High</td>\n",
       "      <td>Basement:Yes;Fireplaces:2;Roof:Asphalt/Fibergl...</td>\n",
       "      <td>SF</td>\n",
       "      <td>Thaxter St</td>\n",
       "      <td>73</td>\n",
       "      <td>73</td>\n",
       "      <td>http://media.mlspin.com/photo.aspx?mls=72255734</td>\n",
       "    </tr>\n",
       "    <tr>\n",
       "      <th>102</th>\n",
       "      <td>72255735</td>\n",
       "      <td>SLD</td>\n",
       "      <td>1799000.0</td>\n",
       "      <td>1734300.0</td>\n",
       "      <td>11/15/2017</td>\n",
       "      <td>3/1/2018</td>\n",
       "      <td>NaN</td>\n",
       "      <td>71</td>\n",
       "      <td>71</td>\n",
       "      <td>15 Dix Street Unit 2</td>\n",
       "      <td>...</td>\n",
       "      <td>NaN</td>\n",
       "      <td>NaN</td>\n",
       "      <td>NaN</td>\n",
       "      <td>NaN</td>\n",
       "      <td>Basement:No;Fireplaces:1;Roof:Asphalt/Fibergla...</td>\n",
       "      <td>CC</td>\n",
       "      <td>Dix Street Unit 2</td>\n",
       "      <td>15</td>\n",
       "      <td>15</td>\n",
       "      <td>http://media.mlspin.com/photo.aspx?mls=72255735</td>\n",
       "    </tr>\n",
       "    <tr>\n",
       "      <th>103</th>\n",
       "      <td>72255807</td>\n",
       "      <td>SLD</td>\n",
       "      <td>749000.0</td>\n",
       "      <td>780000.0</td>\n",
       "      <td>11/15/2017</td>\n",
       "      <td>3/1/2018</td>\n",
       "      <td>NaN</td>\n",
       "      <td>21</td>\n",
       "      <td>6</td>\n",
       "      <td>30 Spring Lane</td>\n",
       "      <td>...</td>\n",
       "      <td>NaN</td>\n",
       "      <td>Downey</td>\n",
       "      <td>Thurston</td>\n",
       "      <td>WHS</td>\n",
       "      <td>Basement:Yes;Fireplaces:2;Roof:Asphalt/Fibergl...</td>\n",
       "      <td>SF</td>\n",
       "      <td>Spring Lane</td>\n",
       "      <td>30</td>\n",
       "      <td>30</td>\n",
       "      <td>http://media.mlspin.com/photo.aspx?mls=72255807</td>\n",
       "    </tr>\n",
       "    <tr>\n",
       "      <th>104</th>\n",
       "      <td>72256216</td>\n",
       "      <td>SLD</td>\n",
       "      <td>619900.0</td>\n",
       "      <td>615000.0</td>\n",
       "      <td>11/16/2017</td>\n",
       "      <td>3/1/2018</td>\n",
       "      <td>NaN</td>\n",
       "      <td>32</td>\n",
       "      <td>20</td>\n",
       "      <td>73 CIRCLE DRIVE</td>\n",
       "      <td>...</td>\n",
       "      <td>NaN</td>\n",
       "      <td>Northeast</td>\n",
       "      <td>Kennedy</td>\n",
       "      <td>Waltham</td>\n",
       "      <td>Basement:Yes;Fireplaces:1;Roof:Asphalt/Fibergl...</td>\n",
       "      <td>SF</td>\n",
       "      <td>CIRCLE DRIVE</td>\n",
       "      <td>73</td>\n",
       "      <td>73</td>\n",
       "      <td>http://media.mlspin.com/photo.aspx?mls=72256216</td>\n",
       "    </tr>\n",
       "  </tbody>\n",
       "</table>\n",
       "<p>5 rows × 38 columns</p>\n",
       "</div>"
      ],
      "text/plain": [
       "       MLSNUM STATUS  LISTPRICE  SOLDPRICE    LISTDATE  SOLDDATE  EXPIREDDATE  \\\n",
       "100  72253657    SLD   539000.0   530000.0   11/9/2017  3/1/2018          NaN   \n",
       "101  72255734    SLD   829000.0   787500.0  11/15/2017  3/1/2018          NaN   \n",
       "102  72255735    SLD  1799000.0  1734300.0  11/15/2017  3/1/2018          NaN   \n",
       "103  72255807    SLD   749000.0   780000.0  11/15/2017  3/1/2018          NaN   \n",
       "104  72256216    SLD   619900.0   615000.0  11/16/2017  3/1/2018          NaN   \n",
       "\n",
       "     DOM  DTO               ADDRESS  ... COOLING ELEMENTARYSCHOOL  \\\n",
       "100   97   33          304 Neponset  ...     NaN              NaN   \n",
       "101   20    5         73 Thaxter St  ...     NaN           Foster   \n",
       "102   71   71  15 Dix Street Unit 2  ...     NaN              NaN   \n",
       "103   21    6        30 Spring Lane  ...     NaN           Downey   \n",
       "104   32   20       73 CIRCLE DRIVE  ...     NaN        Northeast   \n",
       "\n",
       "     JUNIORHIGHSCHOOL    HIGHSCHOOL  \\\n",
       "100               NaN           NaN   \n",
       "101    Hingham Middle  Hingham High   \n",
       "102               NaN           NaN   \n",
       "103          Thurston           WHS   \n",
       "104           Kennedy       Waltham   \n",
       "\n",
       "                                         OTHERFEATURES  PROPTYPE  \\\n",
       "100  Basement:Yes;Fireplaces:0;Roof:--;Floor:Hardwo...        CC   \n",
       "101  Basement:Yes;Fireplaces:2;Roof:Asphalt/Fibergl...        SF   \n",
       "102  Basement:No;Fireplaces:1;Roof:Asphalt/Fibergla...        CC   \n",
       "103  Basement:Yes;Fireplaces:2;Roof:Asphalt/Fibergl...        SF   \n",
       "104  Basement:Yes;Fireplaces:1;Roof:Asphalt/Fibergl...        SF   \n",
       "\n",
       "            STREETNAME  HOUSENUM1  HOUSENUM2  \\\n",
       "100           Neponset        304        304   \n",
       "101         Thaxter St         73         73   \n",
       "102  Dix Street Unit 2         15         15   \n",
       "103        Spring Lane         30         30   \n",
       "104       CIRCLE DRIVE         73         73   \n",
       "\n",
       "                                            PHOTOURL  \n",
       "100  http://media.mlspin.com/photo.aspx?mls=72253657  \n",
       "101  http://media.mlspin.com/photo.aspx?mls=72255734  \n",
       "102  http://media.mlspin.com/photo.aspx?mls=72255735  \n",
       "103  http://media.mlspin.com/photo.aspx?mls=72255807  \n",
       "104  http://media.mlspin.com/photo.aspx?mls=72256216  \n",
       "\n",
       "[5 rows x 38 columns]"
      ]
     },
     "execution_count": 12,
     "metadata": {},
     "output_type": "execute_result"
    }
   ],
   "source": [
    "# View from another angle\n",
    "\n",
    "data.iloc[100:].head()"
   ]
  },
  {
   "cell_type": "markdown",
   "metadata": {},
   "source": [
    "### 2. Explore the data"
   ]
  },
  {
   "cell_type": "code",
   "execution_count": 13,
   "metadata": {
    "pycharm": {
     "name": "#%%\n"
    }
   },
   "outputs": [
    {
     "data": {
      "text/html": [
       "<div>\n",
       "<style scoped>\n",
       "    .dataframe tbody tr th:only-of-type {\n",
       "        vertical-align: middle;\n",
       "    }\n",
       "\n",
       "    .dataframe tbody tr th {\n",
       "        vertical-align: top;\n",
       "    }\n",
       "\n",
       "    .dataframe thead th {\n",
       "        text-align: right;\n",
       "    }\n",
       "</style>\n",
       "<table border=\"1\" class=\"dataframe\">\n",
       "  <thead>\n",
       "    <tr style=\"text-align: right;\">\n",
       "      <th></th>\n",
       "      <th>LISTPRICE</th>\n",
       "      <th>SOLDPRICE</th>\n",
       "    </tr>\n",
       "  </thead>\n",
       "  <tbody>\n",
       "    <tr>\n",
       "      <th>0</th>\n",
       "      <td>239900.0</td>\n",
       "      <td>247000.0</td>\n",
       "    </tr>\n",
       "    <tr>\n",
       "      <th>1</th>\n",
       "      <td>338000.0</td>\n",
       "      <td>338000.0</td>\n",
       "    </tr>\n",
       "    <tr>\n",
       "      <th>2</th>\n",
       "      <td>2999999.0</td>\n",
       "      <td>2950000.0</td>\n",
       "    </tr>\n",
       "    <tr>\n",
       "      <th>3</th>\n",
       "      <td>2600000.0</td>\n",
       "      <td>2600000.0</td>\n",
       "    </tr>\n",
       "    <tr>\n",
       "      <th>4</th>\n",
       "      <td>525000.0</td>\n",
       "      <td>525000.0</td>\n",
       "    </tr>\n",
       "  </tbody>\n",
       "</table>\n",
       "</div>"
      ],
      "text/plain": [
       "   LISTPRICE  SOLDPRICE\n",
       "0   239900.0   247000.0\n",
       "1   338000.0   338000.0\n",
       "2  2999999.0  2950000.0\n",
       "3  2600000.0  2600000.0\n",
       "4   525000.0   525000.0"
      ]
     },
     "execution_count": 13,
     "metadata": {},
     "output_type": "execute_result"
    }
   ],
   "source": [
    "# Narrow the view\n",
    "\n",
    "prices = ['LISTPRICE', 'SOLDPRICE']\n",
    "data[prices].head()"
   ]
  },
  {
   "cell_type": "code",
   "execution_count": 14,
   "metadata": {
    "scrolled": true
   },
   "outputs": [
    {
     "data": {
      "text/plain": [
       "0     247000.0\n",
       "1     338000.0\n",
       "2    2950000.0\n",
       "3    2600000.0\n",
       "4     525000.0\n",
       "Name: SOLDPRICE, dtype: float64"
      ]
     },
     "execution_count": 14,
     "metadata": {},
     "output_type": "execute_result"
    }
   ],
   "source": [
    "data['SOLDPRICE'].head()"
   ]
  },
  {
   "cell_type": "code",
   "execution_count": 15,
   "metadata": {},
   "outputs": [
    {
     "data": {
      "text/html": [
       "<div>\n",
       "<style scoped>\n",
       "    .dataframe tbody tr th:only-of-type {\n",
       "        vertical-align: middle;\n",
       "    }\n",
       "\n",
       "    .dataframe tbody tr th {\n",
       "        vertical-align: top;\n",
       "    }\n",
       "\n",
       "    .dataframe thead th {\n",
       "        text-align: right;\n",
       "    }\n",
       "</style>\n",
       "<table border=\"1\" class=\"dataframe\">\n",
       "  <thead>\n",
       "    <tr style=\"text-align: right;\">\n",
       "      <th></th>\n",
       "      <th>SOLDPRICE</th>\n",
       "    </tr>\n",
       "  </thead>\n",
       "  <tbody>\n",
       "    <tr>\n",
       "      <th>0</th>\n",
       "      <td>247000.0</td>\n",
       "    </tr>\n",
       "    <tr>\n",
       "      <th>1</th>\n",
       "      <td>338000.0</td>\n",
       "    </tr>\n",
       "    <tr>\n",
       "      <th>2</th>\n",
       "      <td>2950000.0</td>\n",
       "    </tr>\n",
       "    <tr>\n",
       "      <th>3</th>\n",
       "      <td>2600000.0</td>\n",
       "    </tr>\n",
       "    <tr>\n",
       "      <th>4</th>\n",
       "      <td>525000.0</td>\n",
       "    </tr>\n",
       "  </tbody>\n",
       "</table>\n",
       "</div>"
      ],
      "text/plain": [
       "   SOLDPRICE\n",
       "0   247000.0\n",
       "1   338000.0\n",
       "2  2950000.0\n",
       "3  2600000.0\n",
       "4   525000.0"
      ]
     },
     "execution_count": 15,
     "metadata": {},
     "output_type": "execute_result"
    }
   ],
   "source": [
    "data[['SOLDPRICE']].head()  # with double [[ looks great ]]"
   ]
  },
  {
   "cell_type": "code",
   "execution_count": 16,
   "metadata": {},
   "outputs": [
    {
     "data": {
      "text/html": [
       "<div>\n",
       "<style scoped>\n",
       "    .dataframe tbody tr th:only-of-type {\n",
       "        vertical-align: middle;\n",
       "    }\n",
       "\n",
       "    .dataframe tbody tr th {\n",
       "        vertical-align: top;\n",
       "    }\n",
       "\n",
       "    .dataframe thead th {\n",
       "        text-align: right;\n",
       "    }\n",
       "</style>\n",
       "<table border=\"1\" class=\"dataframe\">\n",
       "  <thead>\n",
       "    <tr style=\"text-align: right;\">\n",
       "      <th></th>\n",
       "      <th>LISTPRICE</th>\n",
       "      <th>SOLDPRICE</th>\n",
       "    </tr>\n",
       "  </thead>\n",
       "  <tbody>\n",
       "    <tr>\n",
       "      <th>0</th>\n",
       "      <td>239900.0</td>\n",
       "      <td>247000.0</td>\n",
       "    </tr>\n",
       "    <tr>\n",
       "      <th>1</th>\n",
       "      <td>338000.0</td>\n",
       "      <td>338000.0</td>\n",
       "    </tr>\n",
       "    <tr>\n",
       "      <th>2</th>\n",
       "      <td>2999999.0</td>\n",
       "      <td>2950000.0</td>\n",
       "    </tr>\n",
       "    <tr>\n",
       "      <th>3</th>\n",
       "      <td>2600000.0</td>\n",
       "      <td>2600000.0</td>\n",
       "    </tr>\n",
       "    <tr>\n",
       "      <th>4</th>\n",
       "      <td>525000.0</td>\n",
       "      <td>525000.0</td>\n",
       "    </tr>\n",
       "  </tbody>\n",
       "</table>\n",
       "</div>"
      ],
      "text/plain": [
       "   LISTPRICE  SOLDPRICE\n",
       "0   239900.0   247000.0\n",
       "1   338000.0   338000.0\n",
       "2  2999999.0  2950000.0\n",
       "3  2600000.0  2600000.0\n",
       "4   525000.0   525000.0"
      ]
     },
     "execution_count": 16,
     "metadata": {},
     "output_type": "execute_result"
    }
   ],
   "source": [
    "data [['LISTPRICE', 'SOLDPRICE']].head() # Double [[ is inportant for more than one variables - must]]\n",
    "# data ['LISTPRICE', 'SOLDPRICE'].head() # this wouldn't work "
   ]
  },
  {
   "cell_type": "code",
   "execution_count": 17,
   "metadata": {
    "pycharm": {
     "name": "#%%\n"
    }
   },
   "outputs": [],
   "source": [
    "# !YOUR TURN!\n",
    "# Look at sum\n",
    "# data.sum(axis=0)\n",
    "\n",
    "# Look at mean\n",
    "# np.mean(data['SOLDPRICE'])\n"
   ]
  },
  {
   "cell_type": "code",
   "execution_count": 18,
   "metadata": {},
   "outputs": [],
   "source": [
    "# data.sum(axis=0)"
   ]
  },
  {
   "cell_type": "code",
   "execution_count": 19,
   "metadata": {},
   "outputs": [],
   "source": [
    "# np.mean(data)"
   ]
  },
  {
   "cell_type": "code",
   "execution_count": 20,
   "metadata": {},
   "outputs": [
    {
     "data": {
      "text/plain": [
       "array([ 247000.,  338000., 2950000., ...,  616500.,  369000.,  455000.])"
      ]
     },
     "execution_count": 20,
     "metadata": {},
     "output_type": "execute_result"
    }
   ],
   "source": [
    "data['SOLDPRICE'].values"
   ]
  },
  {
   "cell_type": "code",
   "execution_count": 21,
   "metadata": {},
   "outputs": [
    {
     "data": {
      "text/plain": [
       "476598.77463740093"
      ]
     },
     "execution_count": 21,
     "metadata": {},
     "output_type": "execute_result"
    }
   ],
   "source": [
    "soldAv = data['SOLDPRICE']\n",
    "np.mean(soldAv)"
   ]
  },
  {
   "cell_type": "code",
   "execution_count": 22,
   "metadata": {},
   "outputs": [
    {
     "data": {
      "text/plain": [
       "476598.77463740093"
      ]
     },
     "execution_count": 22,
     "metadata": {},
     "output_type": "execute_result"
    }
   ],
   "source": [
    "np.mean(data['SOLDPRICE'])"
   ]
  },
  {
   "cell_type": "code",
   "execution_count": 23,
   "metadata": {
    "scrolled": true
   },
   "outputs": [
    {
     "data": {
      "text/plain": [
       "0    MF\n",
       "1    CC\n",
       "2    SF\n",
       "3    SF\n",
       "4    SF\n",
       "Name: PROPTYPE, dtype: object"
      ]
     },
     "execution_count": 23,
     "metadata": {},
     "output_type": "execute_result"
    }
   ],
   "source": [
    "data['PROPTYPE'].head()"
   ]
  },
  {
   "cell_type": "code",
   "execution_count": 24,
   "metadata": {},
   "outputs": [
    {
     "data": {
      "text/plain": [
       "array(['MF', 'CC', 'SF'], dtype=object)"
      ]
     },
     "execution_count": 24,
     "metadata": {},
     "output_type": "execute_result"
    }
   ],
   "source": [
    "data['PROPTYPE'].unique()"
   ]
  },
  {
   "cell_type": "code",
   "execution_count": 25,
   "metadata": {
    "pycharm": {
     "name": "#%%\n"
    }
   },
   "outputs": [
    {
     "data": {
      "text/plain": [
       "array(['MF', 'CC', 'SF'], dtype=object)"
      ]
     },
     "execution_count": 25,
     "metadata": {},
     "output_type": "execute_result"
    }
   ],
   "source": [
    "# Let's take a look at the property types\n",
    "\n",
    "proptypes = data.PROPTYPE.unique()\n",
    "proptypes"
   ]
  },
  {
   "cell_type": "code",
   "execution_count": 26,
   "metadata": {
    "scrolled": true
   },
   "outputs": [
    {
     "data": {
      "text/plain": [
       "0    False\n",
       "1    False\n",
       "2     True\n",
       "3     True\n",
       "4     True\n",
       "Name: PROPTYPE, dtype: bool"
      ]
     },
     "execution_count": 26,
     "metadata": {},
     "output_type": "execute_result"
    }
   ],
   "source": [
    "(data.PROPTYPE == \"SF\").head()"
   ]
  },
  {
   "cell_type": "code",
   "execution_count": 27,
   "metadata": {},
   "outputs": [
    {
     "data": {
      "text/html": [
       "<div>\n",
       "<style scoped>\n",
       "    .dataframe tbody tr th:only-of-type {\n",
       "        vertical-align: middle;\n",
       "    }\n",
       "\n",
       "    .dataframe tbody tr th {\n",
       "        vertical-align: top;\n",
       "    }\n",
       "\n",
       "    .dataframe thead th {\n",
       "        text-align: right;\n",
       "    }\n",
       "</style>\n",
       "<table border=\"1\" class=\"dataframe\">\n",
       "  <thead>\n",
       "    <tr style=\"text-align: right;\">\n",
       "      <th></th>\n",
       "      <th>MLSNUM</th>\n",
       "      <th>STATUS</th>\n",
       "      <th>LISTPRICE</th>\n",
       "      <th>SOLDPRICE</th>\n",
       "      <th>LISTDATE</th>\n",
       "      <th>SOLDDATE</th>\n",
       "      <th>EXPIREDDATE</th>\n",
       "      <th>DOM</th>\n",
       "      <th>DTO</th>\n",
       "      <th>ADDRESS</th>\n",
       "      <th>...</th>\n",
       "      <th>COOLING</th>\n",
       "      <th>ELEMENTARYSCHOOL</th>\n",
       "      <th>JUNIORHIGHSCHOOL</th>\n",
       "      <th>HIGHSCHOOL</th>\n",
       "      <th>OTHERFEATURES</th>\n",
       "      <th>PROPTYPE</th>\n",
       "      <th>STREETNAME</th>\n",
       "      <th>HOUSENUM1</th>\n",
       "      <th>HOUSENUM2</th>\n",
       "      <th>PHOTOURL</th>\n",
       "    </tr>\n",
       "  </thead>\n",
       "  <tbody>\n",
       "    <tr>\n",
       "      <th>2</th>\n",
       "      <td>72080286</td>\n",
       "      <td>SLD</td>\n",
       "      <td>2999999.0</td>\n",
       "      <td>2950000.0</td>\n",
       "      <td>10/12/2016</td>\n",
       "      <td>3/1/2018</td>\n",
       "      <td>NaN</td>\n",
       "      <td>504</td>\n",
       "      <td>493</td>\n",
       "      <td>80 Monadnock Road</td>\n",
       "      <td>...</td>\n",
       "      <td>NaN</td>\n",
       "      <td>WPS</td>\n",
       "      <td>WMS</td>\n",
       "      <td>WHS</td>\n",
       "      <td>Basement:Yes;Fireplaces:3;Roof:Asphalt/Fibergl...</td>\n",
       "      <td>SF</td>\n",
       "      <td>Monadnock Road</td>\n",
       "      <td>80</td>\n",
       "      <td>80</td>\n",
       "      <td>http://media.mlspin.com/photo.aspx?mls=72080286</td>\n",
       "    </tr>\n",
       "    <tr>\n",
       "      <th>3</th>\n",
       "      <td>72118879</td>\n",
       "      <td>SLD</td>\n",
       "      <td>2600000.0</td>\n",
       "      <td>2600000.0</td>\n",
       "      <td>2/14/2017</td>\n",
       "      <td>3/1/2018</td>\n",
       "      <td>NaN</td>\n",
       "      <td>28</td>\n",
       "      <td>14</td>\n",
       "      <td>15 Trevino Circle</td>\n",
       "      <td>...</td>\n",
       "      <td>NaN</td>\n",
       "      <td>West Elementary</td>\n",
       "      <td>West Middle</td>\n",
       "      <td>Andover High</td>\n",
       "      <td>Basement:Yes;Fireplaces:3;Roof:--;Floor:--;App...</td>\n",
       "      <td>SF</td>\n",
       "      <td>Trevino Circle</td>\n",
       "      <td>15</td>\n",
       "      <td>15</td>\n",
       "      <td>http://media.mlspin.com/photo.aspx?mls=72118879</td>\n",
       "    </tr>\n",
       "    <tr>\n",
       "      <th>4</th>\n",
       "      <td>72124101</td>\n",
       "      <td>SLD</td>\n",
       "      <td>525000.0</td>\n",
       "      <td>525000.0</td>\n",
       "      <td>2/28/2017</td>\n",
       "      <td>3/1/2018</td>\n",
       "      <td>NaN</td>\n",
       "      <td>867</td>\n",
       "      <td>287</td>\n",
       "      <td>53 Maple Ridge Rd</td>\n",
       "      <td>...</td>\n",
       "      <td>NaN</td>\n",
       "      <td>NaN</td>\n",
       "      <td>NaN</td>\n",
       "      <td>Northampton</td>\n",
       "      <td>Basement:Yes;Fireplaces:1;Roof:Asphalt/Fibergl...</td>\n",
       "      <td>SF</td>\n",
       "      <td>Maple Ridge Rd</td>\n",
       "      <td>53</td>\n",
       "      <td>53</td>\n",
       "      <td>http://media.mlspin.com/photo.aspx?mls=72124101</td>\n",
       "    </tr>\n",
       "    <tr>\n",
       "      <th>5</th>\n",
       "      <td>72133120</td>\n",
       "      <td>SLD</td>\n",
       "      <td>468000.0</td>\n",
       "      <td>479000.0</td>\n",
       "      <td>3/20/2017</td>\n",
       "      <td>3/1/2018</td>\n",
       "      <td>NaN</td>\n",
       "      <td>273</td>\n",
       "      <td>273</td>\n",
       "      <td>27 Jennings Way</td>\n",
       "      <td>...</td>\n",
       "      <td>NaN</td>\n",
       "      <td>NaN</td>\n",
       "      <td>NaN</td>\n",
       "      <td>NaN</td>\n",
       "      <td>Basement:Yes;Fireplaces:0;Roof:Asphalt/Fibergl...</td>\n",
       "      <td>SF</td>\n",
       "      <td>Jennings Way</td>\n",
       "      <td>27</td>\n",
       "      <td>27</td>\n",
       "      <td>http://media.mlspin.com/photo.aspx?mls=72133120</td>\n",
       "    </tr>\n",
       "    <tr>\n",
       "      <th>6</th>\n",
       "      <td>72148511</td>\n",
       "      <td>SLD</td>\n",
       "      <td>209900.0</td>\n",
       "      <td>176505.0</td>\n",
       "      <td>4/19/2017</td>\n",
       "      <td>3/1/2018</td>\n",
       "      <td>NaN</td>\n",
       "      <td>311</td>\n",
       "      <td>287</td>\n",
       "      <td>26 HATHAWAY STREET</td>\n",
       "      <td>...</td>\n",
       "      <td>NaN</td>\n",
       "      <td>NaN</td>\n",
       "      <td>NaN</td>\n",
       "      <td>NaN</td>\n",
       "      <td>Basement:No;Fireplaces:0;Roof:--;Floor:--;Appl...</td>\n",
       "      <td>SF</td>\n",
       "      <td>HATHAWAY STREET</td>\n",
       "      <td>26</td>\n",
       "      <td>26</td>\n",
       "      <td>http://media.mlspin.com/photo.aspx?mls=72148511</td>\n",
       "    </tr>\n",
       "  </tbody>\n",
       "</table>\n",
       "<p>5 rows × 38 columns</p>\n",
       "</div>"
      ],
      "text/plain": [
       "     MLSNUM STATUS  LISTPRICE  SOLDPRICE    LISTDATE  SOLDDATE  EXPIREDDATE  \\\n",
       "2  72080286    SLD  2999999.0  2950000.0  10/12/2016  3/1/2018          NaN   \n",
       "3  72118879    SLD  2600000.0  2600000.0   2/14/2017  3/1/2018          NaN   \n",
       "4  72124101    SLD   525000.0   525000.0   2/28/2017  3/1/2018          NaN   \n",
       "5  72133120    SLD   468000.0   479000.0   3/20/2017  3/1/2018          NaN   \n",
       "6  72148511    SLD   209900.0   176505.0   4/19/2017  3/1/2018          NaN   \n",
       "\n",
       "   DOM  DTO             ADDRESS  ... COOLING ELEMENTARYSCHOOL  \\\n",
       "2  504  493   80 Monadnock Road  ...     NaN              WPS   \n",
       "3   28   14   15 Trevino Circle  ...     NaN  West Elementary   \n",
       "4  867  287   53 Maple Ridge Rd  ...     NaN              NaN   \n",
       "5  273  273     27 Jennings Way  ...     NaN              NaN   \n",
       "6  311  287  26 HATHAWAY STREET  ...     NaN              NaN   \n",
       "\n",
       "   JUNIORHIGHSCHOOL    HIGHSCHOOL  \\\n",
       "2               WMS           WHS   \n",
       "3       West Middle  Andover High   \n",
       "4               NaN   Northampton   \n",
       "5               NaN           NaN   \n",
       "6               NaN           NaN   \n",
       "\n",
       "                                       OTHERFEATURES  PROPTYPE  \\\n",
       "2  Basement:Yes;Fireplaces:3;Roof:Asphalt/Fibergl...        SF   \n",
       "3  Basement:Yes;Fireplaces:3;Roof:--;Floor:--;App...        SF   \n",
       "4  Basement:Yes;Fireplaces:1;Roof:Asphalt/Fibergl...        SF   \n",
       "5  Basement:Yes;Fireplaces:0;Roof:Asphalt/Fibergl...        SF   \n",
       "6  Basement:No;Fireplaces:0;Roof:--;Floor:--;Appl...        SF   \n",
       "\n",
       "        STREETNAME  HOUSENUM1  HOUSENUM2  \\\n",
       "2   Monadnock Road         80         80   \n",
       "3   Trevino Circle         15         15   \n",
       "4   Maple Ridge Rd         53         53   \n",
       "5     Jennings Way         27         27   \n",
       "6  HATHAWAY STREET         26         26   \n",
       "\n",
       "                                          PHOTOURL  \n",
       "2  http://media.mlspin.com/photo.aspx?mls=72080286  \n",
       "3  http://media.mlspin.com/photo.aspx?mls=72118879  \n",
       "4  http://media.mlspin.com/photo.aspx?mls=72124101  \n",
       "5  http://media.mlspin.com/photo.aspx?mls=72133120  \n",
       "6  http://media.mlspin.com/photo.aspx?mls=72148511  \n",
       "\n",
       "[5 rows x 38 columns]"
      ]
     },
     "execution_count": 27,
     "metadata": {},
     "output_type": "execute_result"
    }
   ],
   "source": [
    "data[(data.PROPTYPE == \"SF\")].head()"
   ]
  },
  {
   "cell_type": "code",
   "execution_count": 28,
   "metadata": {
    "scrolled": true
   },
   "outputs": [
    {
     "data": {
      "text/plain": [
       "0     True\n",
       "1     True\n",
       "2    False\n",
       "3    False\n",
       "4     True\n",
       "Name: SOLDPRICE, dtype: bool"
      ]
     },
     "execution_count": 28,
     "metadata": {},
     "output_type": "execute_result"
    }
   ],
   "source": [
    "(data.SOLDPRICE < 1000000).head()"
   ]
  },
  {
   "cell_type": "code",
   "execution_count": 29,
   "metadata": {},
   "outputs": [
    {
     "data": {
      "text/html": [
       "<div>\n",
       "<style scoped>\n",
       "    .dataframe tbody tr th:only-of-type {\n",
       "        vertical-align: middle;\n",
       "    }\n",
       "\n",
       "    .dataframe tbody tr th {\n",
       "        vertical-align: top;\n",
       "    }\n",
       "\n",
       "    .dataframe thead th {\n",
       "        text-align: right;\n",
       "    }\n",
       "</style>\n",
       "<table border=\"1\" class=\"dataframe\">\n",
       "  <thead>\n",
       "    <tr style=\"text-align: right;\">\n",
       "      <th></th>\n",
       "      <th>MLSNUM</th>\n",
       "      <th>STATUS</th>\n",
       "      <th>LISTPRICE</th>\n",
       "      <th>SOLDPRICE</th>\n",
       "      <th>LISTDATE</th>\n",
       "      <th>SOLDDATE</th>\n",
       "      <th>EXPIREDDATE</th>\n",
       "      <th>DOM</th>\n",
       "      <th>DTO</th>\n",
       "      <th>ADDRESS</th>\n",
       "      <th>...</th>\n",
       "      <th>COOLING</th>\n",
       "      <th>ELEMENTARYSCHOOL</th>\n",
       "      <th>JUNIORHIGHSCHOOL</th>\n",
       "      <th>HIGHSCHOOL</th>\n",
       "      <th>OTHERFEATURES</th>\n",
       "      <th>PROPTYPE</th>\n",
       "      <th>STREETNAME</th>\n",
       "      <th>HOUSENUM1</th>\n",
       "      <th>HOUSENUM2</th>\n",
       "      <th>PHOTOURL</th>\n",
       "    </tr>\n",
       "  </thead>\n",
       "  <tbody>\n",
       "    <tr>\n",
       "      <th>0</th>\n",
       "      <td>72049670</td>\n",
       "      <td>SLD</td>\n",
       "      <td>239900.0</td>\n",
       "      <td>247000.0</td>\n",
       "      <td>8/6/2016</td>\n",
       "      <td>3/1/2018</td>\n",
       "      <td>NaN</td>\n",
       "      <td>295</td>\n",
       "      <td>295</td>\n",
       "      <td>16 Pine St</td>\n",
       "      <td>...</td>\n",
       "      <td>NaN</td>\n",
       "      <td>NaN</td>\n",
       "      <td>NaN</td>\n",
       "      <td>NaN</td>\n",
       "      <td>NaN</td>\n",
       "      <td>MF</td>\n",
       "      <td>Pine St</td>\n",
       "      <td>16</td>\n",
       "      <td>16</td>\n",
       "      <td>http://media.mlspin.com/photo.aspx?mls=72049670</td>\n",
       "    </tr>\n",
       "    <tr>\n",
       "      <th>1</th>\n",
       "      <td>72056522</td>\n",
       "      <td>SLD</td>\n",
       "      <td>338000.0</td>\n",
       "      <td>338000.0</td>\n",
       "      <td>8/22/2016</td>\n",
       "      <td>3/1/2018</td>\n",
       "      <td>NaN</td>\n",
       "      <td>545</td>\n",
       "      <td>515</td>\n",
       "      <td>80 Cherry Drive</td>\n",
       "      <td>...</td>\n",
       "      <td>NaN</td>\n",
       "      <td>NaN</td>\n",
       "      <td>NaN</td>\n",
       "      <td>NaN</td>\n",
       "      <td>Basement:Yes;Fireplaces:1;Roof:Asphalt/Fibergl...</td>\n",
       "      <td>CC</td>\n",
       "      <td>Cherry Drive</td>\n",
       "      <td>80</td>\n",
       "      <td>80</td>\n",
       "      <td>http://media.mlspin.com/photo.aspx?mls=72056522</td>\n",
       "    </tr>\n",
       "    <tr>\n",
       "      <th>4</th>\n",
       "      <td>72124101</td>\n",
       "      <td>SLD</td>\n",
       "      <td>525000.0</td>\n",
       "      <td>525000.0</td>\n",
       "      <td>2/28/2017</td>\n",
       "      <td>3/1/2018</td>\n",
       "      <td>NaN</td>\n",
       "      <td>867</td>\n",
       "      <td>287</td>\n",
       "      <td>53 Maple Ridge Rd</td>\n",
       "      <td>...</td>\n",
       "      <td>NaN</td>\n",
       "      <td>NaN</td>\n",
       "      <td>NaN</td>\n",
       "      <td>Northampton</td>\n",
       "      <td>Basement:Yes;Fireplaces:1;Roof:Asphalt/Fibergl...</td>\n",
       "      <td>SF</td>\n",
       "      <td>Maple Ridge Rd</td>\n",
       "      <td>53</td>\n",
       "      <td>53</td>\n",
       "      <td>http://media.mlspin.com/photo.aspx?mls=72124101</td>\n",
       "    </tr>\n",
       "    <tr>\n",
       "      <th>5</th>\n",
       "      <td>72133120</td>\n",
       "      <td>SLD</td>\n",
       "      <td>468000.0</td>\n",
       "      <td>479000.0</td>\n",
       "      <td>3/20/2017</td>\n",
       "      <td>3/1/2018</td>\n",
       "      <td>NaN</td>\n",
       "      <td>273</td>\n",
       "      <td>273</td>\n",
       "      <td>27 Jennings Way</td>\n",
       "      <td>...</td>\n",
       "      <td>NaN</td>\n",
       "      <td>NaN</td>\n",
       "      <td>NaN</td>\n",
       "      <td>NaN</td>\n",
       "      <td>Basement:Yes;Fireplaces:0;Roof:Asphalt/Fibergl...</td>\n",
       "      <td>SF</td>\n",
       "      <td>Jennings Way</td>\n",
       "      <td>27</td>\n",
       "      <td>27</td>\n",
       "      <td>http://media.mlspin.com/photo.aspx?mls=72133120</td>\n",
       "    </tr>\n",
       "    <tr>\n",
       "      <th>6</th>\n",
       "      <td>72148511</td>\n",
       "      <td>SLD</td>\n",
       "      <td>209900.0</td>\n",
       "      <td>176505.0</td>\n",
       "      <td>4/19/2017</td>\n",
       "      <td>3/1/2018</td>\n",
       "      <td>NaN</td>\n",
       "      <td>311</td>\n",
       "      <td>287</td>\n",
       "      <td>26 HATHAWAY STREET</td>\n",
       "      <td>...</td>\n",
       "      <td>NaN</td>\n",
       "      <td>NaN</td>\n",
       "      <td>NaN</td>\n",
       "      <td>NaN</td>\n",
       "      <td>Basement:No;Fireplaces:0;Roof:--;Floor:--;Appl...</td>\n",
       "      <td>SF</td>\n",
       "      <td>HATHAWAY STREET</td>\n",
       "      <td>26</td>\n",
       "      <td>26</td>\n",
       "      <td>http://media.mlspin.com/photo.aspx?mls=72148511</td>\n",
       "    </tr>\n",
       "  </tbody>\n",
       "</table>\n",
       "<p>5 rows × 38 columns</p>\n",
       "</div>"
      ],
      "text/plain": [
       "     MLSNUM STATUS  LISTPRICE  SOLDPRICE   LISTDATE  SOLDDATE  EXPIREDDATE  \\\n",
       "0  72049670    SLD   239900.0   247000.0   8/6/2016  3/1/2018          NaN   \n",
       "1  72056522    SLD   338000.0   338000.0  8/22/2016  3/1/2018          NaN   \n",
       "4  72124101    SLD   525000.0   525000.0  2/28/2017  3/1/2018          NaN   \n",
       "5  72133120    SLD   468000.0   479000.0  3/20/2017  3/1/2018          NaN   \n",
       "6  72148511    SLD   209900.0   176505.0  4/19/2017  3/1/2018          NaN   \n",
       "\n",
       "   DOM  DTO             ADDRESS  ... COOLING ELEMENTARYSCHOOL  \\\n",
       "0  295  295          16 Pine St  ...     NaN              NaN   \n",
       "1  545  515     80 Cherry Drive  ...     NaN              NaN   \n",
       "4  867  287   53 Maple Ridge Rd  ...     NaN              NaN   \n",
       "5  273  273     27 Jennings Way  ...     NaN              NaN   \n",
       "6  311  287  26 HATHAWAY STREET  ...     NaN              NaN   \n",
       "\n",
       "   JUNIORHIGHSCHOOL   HIGHSCHOOL  \\\n",
       "0               NaN          NaN   \n",
       "1               NaN          NaN   \n",
       "4               NaN  Northampton   \n",
       "5               NaN          NaN   \n",
       "6               NaN          NaN   \n",
       "\n",
       "                                       OTHERFEATURES  PROPTYPE  \\\n",
       "0                                                NaN        MF   \n",
       "1  Basement:Yes;Fireplaces:1;Roof:Asphalt/Fibergl...        CC   \n",
       "4  Basement:Yes;Fireplaces:1;Roof:Asphalt/Fibergl...        SF   \n",
       "5  Basement:Yes;Fireplaces:0;Roof:Asphalt/Fibergl...        SF   \n",
       "6  Basement:No;Fireplaces:0;Roof:--;Floor:--;Appl...        SF   \n",
       "\n",
       "        STREETNAME  HOUSENUM1  HOUSENUM2  \\\n",
       "0          Pine St         16         16   \n",
       "1     Cherry Drive         80         80   \n",
       "4   Maple Ridge Rd         53         53   \n",
       "5     Jennings Way         27         27   \n",
       "6  HATHAWAY STREET         26         26   \n",
       "\n",
       "                                          PHOTOURL  \n",
       "0  http://media.mlspin.com/photo.aspx?mls=72049670  \n",
       "1  http://media.mlspin.com/photo.aspx?mls=72056522  \n",
       "4  http://media.mlspin.com/photo.aspx?mls=72124101  \n",
       "5  http://media.mlspin.com/photo.aspx?mls=72133120  \n",
       "6  http://media.mlspin.com/photo.aspx?mls=72148511  \n",
       "\n",
       "[5 rows x 38 columns]"
      ]
     },
     "execution_count": 29,
     "metadata": {},
     "output_type": "execute_result"
    }
   ],
   "source": [
    "data[(data.SOLDPRICE < 1000000)].head()"
   ]
  },
  {
   "cell_type": "code",
   "execution_count": 30,
   "metadata": {
    "pycharm": {
     "name": "#%%\n"
    }
   },
   "outputs": [
    {
     "data": {
      "text/html": [
       "<div>\n",
       "<style scoped>\n",
       "    .dataframe tbody tr th:only-of-type {\n",
       "        vertical-align: middle;\n",
       "    }\n",
       "\n",
       "    .dataframe tbody tr th {\n",
       "        vertical-align: top;\n",
       "    }\n",
       "\n",
       "    .dataframe thead th {\n",
       "        text-align: right;\n",
       "    }\n",
       "</style>\n",
       "<table border=\"1\" class=\"dataframe\">\n",
       "  <thead>\n",
       "    <tr style=\"text-align: right;\">\n",
       "      <th></th>\n",
       "      <th>MLSNUM</th>\n",
       "      <th>STATUS</th>\n",
       "      <th>LISTPRICE</th>\n",
       "      <th>SOLDPRICE</th>\n",
       "      <th>LISTDATE</th>\n",
       "      <th>SOLDDATE</th>\n",
       "      <th>EXPIREDDATE</th>\n",
       "      <th>DOM</th>\n",
       "      <th>DTO</th>\n",
       "      <th>ADDRESS</th>\n",
       "      <th>...</th>\n",
       "      <th>COOLING</th>\n",
       "      <th>ELEMENTARYSCHOOL</th>\n",
       "      <th>JUNIORHIGHSCHOOL</th>\n",
       "      <th>HIGHSCHOOL</th>\n",
       "      <th>OTHERFEATURES</th>\n",
       "      <th>PROPTYPE</th>\n",
       "      <th>STREETNAME</th>\n",
       "      <th>HOUSENUM1</th>\n",
       "      <th>HOUSENUM2</th>\n",
       "      <th>PHOTOURL</th>\n",
       "    </tr>\n",
       "  </thead>\n",
       "  <tbody>\n",
       "    <tr>\n",
       "      <th>4</th>\n",
       "      <td>72124101</td>\n",
       "      <td>SLD</td>\n",
       "      <td>525000.0</td>\n",
       "      <td>525000.0</td>\n",
       "      <td>2/28/2017</td>\n",
       "      <td>3/1/2018</td>\n",
       "      <td>NaN</td>\n",
       "      <td>867</td>\n",
       "      <td>287</td>\n",
       "      <td>53 Maple Ridge Rd</td>\n",
       "      <td>...</td>\n",
       "      <td>NaN</td>\n",
       "      <td>NaN</td>\n",
       "      <td>NaN</td>\n",
       "      <td>Northampton</td>\n",
       "      <td>Basement:Yes;Fireplaces:1;Roof:Asphalt/Fibergl...</td>\n",
       "      <td>SF</td>\n",
       "      <td>Maple Ridge Rd</td>\n",
       "      <td>53</td>\n",
       "      <td>53</td>\n",
       "      <td>http://media.mlspin.com/photo.aspx?mls=72124101</td>\n",
       "    </tr>\n",
       "    <tr>\n",
       "      <th>5</th>\n",
       "      <td>72133120</td>\n",
       "      <td>SLD</td>\n",
       "      <td>468000.0</td>\n",
       "      <td>479000.0</td>\n",
       "      <td>3/20/2017</td>\n",
       "      <td>3/1/2018</td>\n",
       "      <td>NaN</td>\n",
       "      <td>273</td>\n",
       "      <td>273</td>\n",
       "      <td>27 Jennings Way</td>\n",
       "      <td>...</td>\n",
       "      <td>NaN</td>\n",
       "      <td>NaN</td>\n",
       "      <td>NaN</td>\n",
       "      <td>NaN</td>\n",
       "      <td>Basement:Yes;Fireplaces:0;Roof:Asphalt/Fibergl...</td>\n",
       "      <td>SF</td>\n",
       "      <td>Jennings Way</td>\n",
       "      <td>27</td>\n",
       "      <td>27</td>\n",
       "      <td>http://media.mlspin.com/photo.aspx?mls=72133120</td>\n",
       "    </tr>\n",
       "    <tr>\n",
       "      <th>6</th>\n",
       "      <td>72148511</td>\n",
       "      <td>SLD</td>\n",
       "      <td>209900.0</td>\n",
       "      <td>176505.0</td>\n",
       "      <td>4/19/2017</td>\n",
       "      <td>3/1/2018</td>\n",
       "      <td>NaN</td>\n",
       "      <td>311</td>\n",
       "      <td>287</td>\n",
       "      <td>26 HATHAWAY STREET</td>\n",
       "      <td>...</td>\n",
       "      <td>NaN</td>\n",
       "      <td>NaN</td>\n",
       "      <td>NaN</td>\n",
       "      <td>NaN</td>\n",
       "      <td>Basement:No;Fireplaces:0;Roof:--;Floor:--;Appl...</td>\n",
       "      <td>SF</td>\n",
       "      <td>HATHAWAY STREET</td>\n",
       "      <td>26</td>\n",
       "      <td>26</td>\n",
       "      <td>http://media.mlspin.com/photo.aspx?mls=72148511</td>\n",
       "    </tr>\n",
       "    <tr>\n",
       "      <th>7</th>\n",
       "      <td>72153413</td>\n",
       "      <td>SLD</td>\n",
       "      <td>549900.0</td>\n",
       "      <td>530000.0</td>\n",
       "      <td>4/26/2017</td>\n",
       "      <td>3/1/2018</td>\n",
       "      <td>NaN</td>\n",
       "      <td>261</td>\n",
       "      <td>261</td>\n",
       "      <td>9 Sheffield Place</td>\n",
       "      <td>...</td>\n",
       "      <td>NaN</td>\n",
       "      <td>NaN</td>\n",
       "      <td>NaN</td>\n",
       "      <td>NaN</td>\n",
       "      <td>Basement:Yes;Fireplaces:1;Roof:Asphalt/Fibergl...</td>\n",
       "      <td>SF</td>\n",
       "      <td>Sheffield Place</td>\n",
       "      <td>9</td>\n",
       "      <td>9</td>\n",
       "      <td>http://media.mlspin.com/photo.aspx?mls=72153413</td>\n",
       "    </tr>\n",
       "    <tr>\n",
       "      <th>9</th>\n",
       "      <td>72166889</td>\n",
       "      <td>SLD</td>\n",
       "      <td>130000.0</td>\n",
       "      <td>130000.0</td>\n",
       "      <td>5/16/2017</td>\n",
       "      <td>3/1/2018</td>\n",
       "      <td>NaN</td>\n",
       "      <td>185</td>\n",
       "      <td>185</td>\n",
       "      <td>88 Marcelle St</td>\n",
       "      <td>...</td>\n",
       "      <td>NaN</td>\n",
       "      <td>NaN</td>\n",
       "      <td>NaN</td>\n",
       "      <td>NaN</td>\n",
       "      <td>Basement:Yes;Fireplaces:0;Roof:Asphalt/Fibergl...</td>\n",
       "      <td>SF</td>\n",
       "      <td>Marcelle St</td>\n",
       "      <td>88</td>\n",
       "      <td>88</td>\n",
       "      <td>http://media.mlspin.com/photo.aspx?mls=72166889</td>\n",
       "    </tr>\n",
       "  </tbody>\n",
       "</table>\n",
       "<p>5 rows × 38 columns</p>\n",
       "</div>"
      ],
      "text/plain": [
       "     MLSNUM STATUS  LISTPRICE  SOLDPRICE   LISTDATE  SOLDDATE  EXPIREDDATE  \\\n",
       "4  72124101    SLD   525000.0   525000.0  2/28/2017  3/1/2018          NaN   \n",
       "5  72133120    SLD   468000.0   479000.0  3/20/2017  3/1/2018          NaN   \n",
       "6  72148511    SLD   209900.0   176505.0  4/19/2017  3/1/2018          NaN   \n",
       "7  72153413    SLD   549900.0   530000.0  4/26/2017  3/1/2018          NaN   \n",
       "9  72166889    SLD   130000.0   130000.0  5/16/2017  3/1/2018          NaN   \n",
       "\n",
       "   DOM  DTO             ADDRESS  ... COOLING ELEMENTARYSCHOOL  \\\n",
       "4  867  287   53 Maple Ridge Rd  ...     NaN              NaN   \n",
       "5  273  273     27 Jennings Way  ...     NaN              NaN   \n",
       "6  311  287  26 HATHAWAY STREET  ...     NaN              NaN   \n",
       "7  261  261   9 Sheffield Place  ...     NaN              NaN   \n",
       "9  185  185      88 Marcelle St  ...     NaN              NaN   \n",
       "\n",
       "   JUNIORHIGHSCHOOL   HIGHSCHOOL  \\\n",
       "4               NaN  Northampton   \n",
       "5               NaN          NaN   \n",
       "6               NaN          NaN   \n",
       "7               NaN          NaN   \n",
       "9               NaN          NaN   \n",
       "\n",
       "                                       OTHERFEATURES  PROPTYPE  \\\n",
       "4  Basement:Yes;Fireplaces:1;Roof:Asphalt/Fibergl...        SF   \n",
       "5  Basement:Yes;Fireplaces:0;Roof:Asphalt/Fibergl...        SF   \n",
       "6  Basement:No;Fireplaces:0;Roof:--;Floor:--;Appl...        SF   \n",
       "7  Basement:Yes;Fireplaces:1;Roof:Asphalt/Fibergl...        SF   \n",
       "9  Basement:Yes;Fireplaces:0;Roof:Asphalt/Fibergl...        SF   \n",
       "\n",
       "        STREETNAME  HOUSENUM1  HOUSENUM2  \\\n",
       "4   Maple Ridge Rd         53         53   \n",
       "5     Jennings Way         27         27   \n",
       "6  HATHAWAY STREET         26         26   \n",
       "7  Sheffield Place          9          9   \n",
       "9      Marcelle St         88         88   \n",
       "\n",
       "                                          PHOTOURL  \n",
       "4  http://media.mlspin.com/photo.aspx?mls=72124101  \n",
       "5  http://media.mlspin.com/photo.aspx?mls=72133120  \n",
       "6  http://media.mlspin.com/photo.aspx?mls=72148511  \n",
       "7  http://media.mlspin.com/photo.aspx?mls=72153413  \n",
       "9  http://media.mlspin.com/photo.aspx?mls=72166889  \n",
       "\n",
       "[5 rows x 38 columns]"
      ]
     },
     "execution_count": 30,
     "metadata": {},
     "output_type": "execute_result"
    }
   ],
   "source": [
    "# Tinker around with some filtering options\n",
    "\n",
    "data[(data.SOLDPRICE < 1000000) & (data.PROPTYPE == \"SF\")].head()"
   ]
  },
  {
   "cell_type": "code",
   "execution_count": 31,
   "metadata": {
    "pycharm": {
     "name": "#%%\n"
    }
   },
   "outputs": [
    {
     "data": {
      "text/html": [
       "<div>\n",
       "<style scoped>\n",
       "    .dataframe tbody tr th:only-of-type {\n",
       "        vertical-align: middle;\n",
       "    }\n",
       "\n",
       "    .dataframe tbody tr th {\n",
       "        vertical-align: top;\n",
       "    }\n",
       "\n",
       "    .dataframe thead th {\n",
       "        text-align: right;\n",
       "    }\n",
       "</style>\n",
       "<table border=\"1\" class=\"dataframe\">\n",
       "  <thead>\n",
       "    <tr style=\"text-align: right;\">\n",
       "      <th></th>\n",
       "      <th>MLSNUM</th>\n",
       "      <th>LISTPRICE</th>\n",
       "      <th>SOLDPRICE</th>\n",
       "      <th>EXPIREDDATE</th>\n",
       "      <th>DOM</th>\n",
       "      <th>DTO</th>\n",
       "      <th>ZIP</th>\n",
       "      <th>BEDS</th>\n",
       "      <th>BATHS</th>\n",
       "      <th>SQFT</th>\n",
       "      <th>AGE</th>\n",
       "      <th>LOTSIZE</th>\n",
       "      <th>GARAGE</th>\n",
       "      <th>COOLING</th>\n",
       "    </tr>\n",
       "  </thead>\n",
       "  <tbody>\n",
       "    <tr>\n",
       "      <th>count</th>\n",
       "      <td>5.171000e+03</td>\n",
       "      <td>5.171000e+03</td>\n",
       "      <td>5.171000e+03</td>\n",
       "      <td>0.0</td>\n",
       "      <td>5171.000000</td>\n",
       "      <td>5171.000000</td>\n",
       "      <td>5171.000000</td>\n",
       "      <td>5171.000000</td>\n",
       "      <td>5171.000000</td>\n",
       "      <td>5171.000000</td>\n",
       "      <td>5171.000000</td>\n",
       "      <td>4.064000e+03</td>\n",
       "      <td>5171.000000</td>\n",
       "      <td>0.0</td>\n",
       "    </tr>\n",
       "    <tr>\n",
       "      <th>mean</th>\n",
       "      <td>7.225305e+07</td>\n",
       "      <td>4.807745e+05</td>\n",
       "      <td>4.765988e+05</td>\n",
       "      <td>NaN</td>\n",
       "      <td>69.591762</td>\n",
       "      <td>48.977374</td>\n",
       "      <td>2062.584220</td>\n",
       "      <td>3.253336</td>\n",
       "      <td>2.031038</td>\n",
       "      <td>1883.277703</td>\n",
       "      <td>62.156256</td>\n",
       "      <td>4.236467e+04</td>\n",
       "      <td>0.865597</td>\n",
       "      <td>NaN</td>\n",
       "    </tr>\n",
       "    <tr>\n",
       "      <th>std</th>\n",
       "      <td>4.473714e+04</td>\n",
       "      <td>4.945971e+05</td>\n",
       "      <td>5.016361e+05</td>\n",
       "      <td>NaN</td>\n",
       "      <td>92.763384</td>\n",
       "      <td>68.484702</td>\n",
       "      <td>1119.135051</td>\n",
       "      <td>1.604884</td>\n",
       "      <td>1.050722</td>\n",
       "      <td>1038.769455</td>\n",
       "      <td>54.095052</td>\n",
       "      <td>3.790374e+05</td>\n",
       "      <td>0.985542</td>\n",
       "      <td>NaN</td>\n",
       "    </tr>\n",
       "    <tr>\n",
       "      <th>min</th>\n",
       "      <td>7.115216e+07</td>\n",
       "      <td>1.990000e+04</td>\n",
       "      <td>2.300000e+04</td>\n",
       "      <td>NaN</td>\n",
       "      <td>0.000000</td>\n",
       "      <td>0.000000</td>\n",
       "      <td>101.000000</td>\n",
       "      <td>0.000000</td>\n",
       "      <td>0.000000</td>\n",
       "      <td>0.000000</td>\n",
       "      <td>0.000000</td>\n",
       "      <td>0.000000e+00</td>\n",
       "      <td>0.000000</td>\n",
       "      <td>NaN</td>\n",
       "    </tr>\n",
       "    <tr>\n",
       "      <th>25%</th>\n",
       "      <td>7.224754e+07</td>\n",
       "      <td>2.499000e+05</td>\n",
       "      <td>2.450000e+05</td>\n",
       "      <td>NaN</td>\n",
       "      <td>18.000000</td>\n",
       "      <td>6.000000</td>\n",
       "      <td>1747.000000</td>\n",
       "      <td>2.000000</td>\n",
       "      <td>1.500000</td>\n",
       "      <td>1191.000000</td>\n",
       "      <td>27.000000</td>\n",
       "      <td>6.000000e+03</td>\n",
       "      <td>0.000000</td>\n",
       "      <td>NaN</td>\n",
       "    </tr>\n",
       "    <tr>\n",
       "      <th>50%</th>\n",
       "      <td>7.226724e+07</td>\n",
       "      <td>3.748000e+05</td>\n",
       "      <td>3.700000e+05</td>\n",
       "      <td>NaN</td>\n",
       "      <td>35.000000</td>\n",
       "      <td>20.000000</td>\n",
       "      <td>2048.000000</td>\n",
       "      <td>3.000000</td>\n",
       "      <td>2.000000</td>\n",
       "      <td>1638.000000</td>\n",
       "      <td>54.000000</td>\n",
       "      <td>1.174600e+04</td>\n",
       "      <td>1.000000</td>\n",
       "      <td>NaN</td>\n",
       "    </tr>\n",
       "    <tr>\n",
       "      <th>75%</th>\n",
       "      <td>7.227533e+07</td>\n",
       "      <td>5.499000e+05</td>\n",
       "      <td>5.515000e+05</td>\n",
       "      <td>NaN</td>\n",
       "      <td>94.000000</td>\n",
       "      <td>73.000000</td>\n",
       "      <td>2360.000000</td>\n",
       "      <td>4.000000</td>\n",
       "      <td>2.500000</td>\n",
       "      <td>2300.000000</td>\n",
       "      <td>98.000000</td>\n",
       "      <td>2.570625e+04</td>\n",
       "      <td>2.000000</td>\n",
       "      <td>NaN</td>\n",
       "    </tr>\n",
       "    <tr>\n",
       "      <th>max</th>\n",
       "      <td>7.230167e+07</td>\n",
       "      <td>1.050000e+07</td>\n",
       "      <td>1.511000e+07</td>\n",
       "      <td>NaN</td>\n",
       "      <td>1562.000000</td>\n",
       "      <td>938.000000</td>\n",
       "      <td>34452.000000</td>\n",
       "      <td>32.000000</td>\n",
       "      <td>32.000000</td>\n",
       "      <td>11200.000000</td>\n",
       "      <td>1863.000000</td>\n",
       "      <td>1.868724e+07</td>\n",
       "      <td>9.000000</td>\n",
       "      <td>NaN</td>\n",
       "    </tr>\n",
       "  </tbody>\n",
       "</table>\n",
       "</div>"
      ],
      "text/plain": [
       "             MLSNUM     LISTPRICE     SOLDPRICE  EXPIREDDATE          DOM  \\\n",
       "count  5.171000e+03  5.171000e+03  5.171000e+03          0.0  5171.000000   \n",
       "mean   7.225305e+07  4.807745e+05  4.765988e+05          NaN    69.591762   \n",
       "std    4.473714e+04  4.945971e+05  5.016361e+05          NaN    92.763384   \n",
       "min    7.115216e+07  1.990000e+04  2.300000e+04          NaN     0.000000   \n",
       "25%    7.224754e+07  2.499000e+05  2.450000e+05          NaN    18.000000   \n",
       "50%    7.226724e+07  3.748000e+05  3.700000e+05          NaN    35.000000   \n",
       "75%    7.227533e+07  5.499000e+05  5.515000e+05          NaN    94.000000   \n",
       "max    7.230167e+07  1.050000e+07  1.511000e+07          NaN  1562.000000   \n",
       "\n",
       "               DTO           ZIP         BEDS        BATHS          SQFT  \\\n",
       "count  5171.000000   5171.000000  5171.000000  5171.000000   5171.000000   \n",
       "mean     48.977374   2062.584220     3.253336     2.031038   1883.277703   \n",
       "std      68.484702   1119.135051     1.604884     1.050722   1038.769455   \n",
       "min       0.000000    101.000000     0.000000     0.000000      0.000000   \n",
       "25%       6.000000   1747.000000     2.000000     1.500000   1191.000000   \n",
       "50%      20.000000   2048.000000     3.000000     2.000000   1638.000000   \n",
       "75%      73.000000   2360.000000     4.000000     2.500000   2300.000000   \n",
       "max     938.000000  34452.000000    32.000000    32.000000  11200.000000   \n",
       "\n",
       "               AGE       LOTSIZE       GARAGE  COOLING  \n",
       "count  5171.000000  4.064000e+03  5171.000000      0.0  \n",
       "mean     62.156256  4.236467e+04     0.865597      NaN  \n",
       "std      54.095052  3.790374e+05     0.985542      NaN  \n",
       "min       0.000000  0.000000e+00     0.000000      NaN  \n",
       "25%      27.000000  6.000000e+03     0.000000      NaN  \n",
       "50%      54.000000  1.174600e+04     1.000000      NaN  \n",
       "75%      98.000000  2.570625e+04     2.000000      NaN  \n",
       "max    1863.000000  1.868724e+07     9.000000      NaN  "
      ]
     },
     "execution_count": 31,
     "metadata": {},
     "output_type": "execute_result"
    }
   ],
   "source": [
    "# Look at everything\n",
    "\n",
    "data.describe()"
   ]
  },
  {
   "cell_type": "code",
   "execution_count": 32,
   "metadata": {},
   "outputs": [
    {
     "data": {
      "text/html": [
       "<div>\n",
       "<style scoped>\n",
       "    .dataframe tbody tr th:only-of-type {\n",
       "        vertical-align: middle;\n",
       "    }\n",
       "\n",
       "    .dataframe tbody tr th {\n",
       "        vertical-align: top;\n",
       "    }\n",
       "\n",
       "    .dataframe thead th {\n",
       "        text-align: right;\n",
       "    }\n",
       "</style>\n",
       "<table border=\"1\" class=\"dataframe\">\n",
       "  <thead>\n",
       "    <tr style=\"text-align: right;\">\n",
       "      <th></th>\n",
       "      <th>MLSNUM</th>\n",
       "      <th>LISTPRICE</th>\n",
       "      <th>SOLDPRICE</th>\n",
       "      <th>EXPIREDDATE</th>\n",
       "      <th>DOM</th>\n",
       "      <th>DTO</th>\n",
       "      <th>ZIP</th>\n",
       "      <th>BEDS</th>\n",
       "      <th>BATHS</th>\n",
       "      <th>SQFT</th>\n",
       "      <th>AGE</th>\n",
       "      <th>LOTSIZE</th>\n",
       "      <th>GARAGE</th>\n",
       "      <th>COOLING</th>\n",
       "    </tr>\n",
       "    <tr>\n",
       "      <th>PROPTYPE</th>\n",
       "      <th></th>\n",
       "      <th></th>\n",
       "      <th></th>\n",
       "      <th></th>\n",
       "      <th></th>\n",
       "      <th></th>\n",
       "      <th></th>\n",
       "      <th></th>\n",
       "      <th></th>\n",
       "      <th></th>\n",
       "      <th></th>\n",
       "      <th></th>\n",
       "      <th></th>\n",
       "      <th></th>\n",
       "    </tr>\n",
       "  </thead>\n",
       "  <tbody>\n",
       "    <tr>\n",
       "      <th>CC</th>\n",
       "      <td>7.225364e+07</td>\n",
       "      <td>512072.209661</td>\n",
       "      <td>515437.729363</td>\n",
       "      <td>NaN</td>\n",
       "      <td>54.799169</td>\n",
       "      <td>39.804017</td>\n",
       "      <td>2106.023546</td>\n",
       "      <td>2.087258</td>\n",
       "      <td>1.745845</td>\n",
       "      <td>1328.087950</td>\n",
       "      <td>49.587950</td>\n",
       "      <td>109587.963056</td>\n",
       "      <td>0.542244</td>\n",
       "      <td>NaN</td>\n",
       "    </tr>\n",
       "    <tr>\n",
       "      <th>MF</th>\n",
       "      <td>7.225119e+07</td>\n",
       "      <td>498397.169421</td>\n",
       "      <td>493278.811983</td>\n",
       "      <td>NaN</td>\n",
       "      <td>55.506198</td>\n",
       "      <td>41.280992</td>\n",
       "      <td>1997.479339</td>\n",
       "      <td>6.121901</td>\n",
       "      <td>2.927686</td>\n",
       "      <td>2891.136364</td>\n",
       "      <td>108.140496</td>\n",
       "      <td>8466.673120</td>\n",
       "      <td>0.520661</td>\n",
       "      <td>NaN</td>\n",
       "    </tr>\n",
       "    <tr>\n",
       "      <th>SF</th>\n",
       "      <td>7.225306e+07</td>\n",
       "      <td>464208.570802</td>\n",
       "      <td>456815.676056</td>\n",
       "      <td>NaN</td>\n",
       "      <td>78.280604</td>\n",
       "      <td>54.210607</td>\n",
       "      <td>2052.958680</td>\n",
       "      <td>3.344434</td>\n",
       "      <td>2.024206</td>\n",
       "      <td>1980.067838</td>\n",
       "      <td>60.889608</td>\n",
       "      <td>40438.179158</td>\n",
       "      <td>1.061055</td>\n",
       "      <td>NaN</td>\n",
       "    </tr>\n",
       "  </tbody>\n",
       "</table>\n",
       "</div>"
      ],
      "text/plain": [
       "                MLSNUM      LISTPRICE      SOLDPRICE  EXPIREDDATE        DOM  \\\n",
       "PROPTYPE                                                                       \n",
       "CC        7.225364e+07  512072.209661  515437.729363          NaN  54.799169   \n",
       "MF        7.225119e+07  498397.169421  493278.811983          NaN  55.506198   \n",
       "SF        7.225306e+07  464208.570802  456815.676056          NaN  78.280604   \n",
       "\n",
       "                DTO          ZIP      BEDS     BATHS         SQFT         AGE  \\\n",
       "PROPTYPE                                                                        \n",
       "CC        39.804017  2106.023546  2.087258  1.745845  1328.087950   49.587950   \n",
       "MF        41.280992  1997.479339  6.121901  2.927686  2891.136364  108.140496   \n",
       "SF        54.210607  2052.958680  3.344434  2.024206  1980.067838   60.889608   \n",
       "\n",
       "                LOTSIZE    GARAGE  COOLING  \n",
       "PROPTYPE                                    \n",
       "CC        109587.963056  0.542244      NaN  \n",
       "MF          8466.673120  0.520661      NaN  \n",
       "SF         40438.179158  1.061055      NaN  "
      ]
     },
     "execution_count": 32,
     "metadata": {},
     "output_type": "execute_result"
    }
   ],
   "source": [
    "data.groupby('PROPTYPE').mean()"
   ]
  },
  {
   "cell_type": "code",
   "execution_count": 33,
   "metadata": {
    "pycharm": {
     "name": "#%%\n"
    }
   },
   "outputs": [
    {
     "data": {
      "text/html": [
       "<div>\n",
       "<style scoped>\n",
       "    .dataframe tbody tr th:only-of-type {\n",
       "        vertical-align: middle;\n",
       "    }\n",
       "\n",
       "    .dataframe tbody tr th {\n",
       "        vertical-align: top;\n",
       "    }\n",
       "\n",
       "    .dataframe thead tr th {\n",
       "        text-align: left;\n",
       "    }\n",
       "\n",
       "    .dataframe thead tr:last-of-type th {\n",
       "        text-align: right;\n",
       "    }\n",
       "</style>\n",
       "<table border=\"1\" class=\"dataframe\">\n",
       "  <thead>\n",
       "    <tr>\n",
       "      <th></th>\n",
       "      <th colspan=\"8\" halign=\"left\">MLSNUM</th>\n",
       "      <th colspan=\"2\" halign=\"left\">LISTPRICE</th>\n",
       "      <th>...</th>\n",
       "      <th colspan=\"2\" halign=\"left\">GARAGE</th>\n",
       "      <th colspan=\"8\" halign=\"left\">COOLING</th>\n",
       "    </tr>\n",
       "    <tr>\n",
       "      <th></th>\n",
       "      <th>count</th>\n",
       "      <th>mean</th>\n",
       "      <th>std</th>\n",
       "      <th>min</th>\n",
       "      <th>25%</th>\n",
       "      <th>50%</th>\n",
       "      <th>75%</th>\n",
       "      <th>max</th>\n",
       "      <th>count</th>\n",
       "      <th>mean</th>\n",
       "      <th>...</th>\n",
       "      <th>75%</th>\n",
       "      <th>max</th>\n",
       "      <th>count</th>\n",
       "      <th>mean</th>\n",
       "      <th>std</th>\n",
       "      <th>min</th>\n",
       "      <th>25%</th>\n",
       "      <th>50%</th>\n",
       "      <th>75%</th>\n",
       "      <th>max</th>\n",
       "    </tr>\n",
       "    <tr>\n",
       "      <th>PROPTYPE</th>\n",
       "      <th></th>\n",
       "      <th></th>\n",
       "      <th></th>\n",
       "      <th></th>\n",
       "      <th></th>\n",
       "      <th></th>\n",
       "      <th></th>\n",
       "      <th></th>\n",
       "      <th></th>\n",
       "      <th></th>\n",
       "      <th></th>\n",
       "      <th></th>\n",
       "      <th></th>\n",
       "      <th></th>\n",
       "      <th></th>\n",
       "      <th></th>\n",
       "      <th></th>\n",
       "      <th></th>\n",
       "      <th></th>\n",
       "      <th></th>\n",
       "      <th></th>\n",
       "    </tr>\n",
       "  </thead>\n",
       "  <tbody>\n",
       "    <tr>\n",
       "      <th>CC</th>\n",
       "      <td>1444.0</td>\n",
       "      <td>7.225364e+07</td>\n",
       "      <td>45088.556068</td>\n",
       "      <td>71836809.0</td>\n",
       "      <td>72251477.0</td>\n",
       "      <td>72270354.0</td>\n",
       "      <td>72277153.75</td>\n",
       "      <td>72296323.0</td>\n",
       "      <td>1444.0</td>\n",
       "      <td>512072.209661</td>\n",
       "      <td>...</td>\n",
       "      <td>1.0</td>\n",
       "      <td>2.0</td>\n",
       "      <td>0.0</td>\n",
       "      <td>NaN</td>\n",
       "      <td>NaN</td>\n",
       "      <td>NaN</td>\n",
       "      <td>NaN</td>\n",
       "      <td>NaN</td>\n",
       "      <td>NaN</td>\n",
       "      <td>NaN</td>\n",
       "    </tr>\n",
       "    <tr>\n",
       "      <th>MF</th>\n",
       "      <td>484.0</td>\n",
       "      <td>7.225119e+07</td>\n",
       "      <td>47702.020613</td>\n",
       "      <td>71888962.0</td>\n",
       "      <td>72246695.0</td>\n",
       "      <td>72266094.5</td>\n",
       "      <td>72274428.25</td>\n",
       "      <td>72294677.0</td>\n",
       "      <td>484.0</td>\n",
       "      <td>498397.169421</td>\n",
       "      <td>...</td>\n",
       "      <td>1.0</td>\n",
       "      <td>7.0</td>\n",
       "      <td>0.0</td>\n",
       "      <td>NaN</td>\n",
       "      <td>NaN</td>\n",
       "      <td>NaN</td>\n",
       "      <td>NaN</td>\n",
       "      <td>NaN</td>\n",
       "      <td>NaN</td>\n",
       "      <td>NaN</td>\n",
       "    </tr>\n",
       "    <tr>\n",
       "      <th>SF</th>\n",
       "      <td>3243.0</td>\n",
       "      <td>7.225306e+07</td>\n",
       "      <td>44125.890963</td>\n",
       "      <td>71152163.0</td>\n",
       "      <td>72246143.5</td>\n",
       "      <td>72265821.0</td>\n",
       "      <td>72274353.00</td>\n",
       "      <td>72301673.0</td>\n",
       "      <td>3243.0</td>\n",
       "      <td>464208.570802</td>\n",
       "      <td>...</td>\n",
       "      <td>2.0</td>\n",
       "      <td>9.0</td>\n",
       "      <td>0.0</td>\n",
       "      <td>NaN</td>\n",
       "      <td>NaN</td>\n",
       "      <td>NaN</td>\n",
       "      <td>NaN</td>\n",
       "      <td>NaN</td>\n",
       "      <td>NaN</td>\n",
       "      <td>NaN</td>\n",
       "    </tr>\n",
       "  </tbody>\n",
       "</table>\n",
       "<p>3 rows × 112 columns</p>\n",
       "</div>"
      ],
      "text/plain": [
       "          MLSNUM                                                      \\\n",
       "           count          mean           std         min         25%   \n",
       "PROPTYPE                                                               \n",
       "CC        1444.0  7.225364e+07  45088.556068  71836809.0  72251477.0   \n",
       "MF         484.0  7.225119e+07  47702.020613  71888962.0  72246695.0   \n",
       "SF        3243.0  7.225306e+07  44125.890963  71152163.0  72246143.5   \n",
       "\n",
       "                                              LISTPRICE                 ...  \\\n",
       "                 50%          75%         max     count           mean  ...   \n",
       "PROPTYPE                                                                ...   \n",
       "CC        72270354.0  72277153.75  72296323.0    1444.0  512072.209661  ...   \n",
       "MF        72266094.5  72274428.25  72294677.0     484.0  498397.169421  ...   \n",
       "SF        72265821.0  72274353.00  72301673.0    3243.0  464208.570802  ...   \n",
       "\n",
       "         GARAGE      COOLING                               \n",
       "            75%  max   count mean std min 25% 50% 75% max  \n",
       "PROPTYPE                                                   \n",
       "CC          1.0  2.0     0.0  NaN NaN NaN NaN NaN NaN NaN  \n",
       "MF          1.0  7.0     0.0  NaN NaN NaN NaN NaN NaN NaN  \n",
       "SF          2.0  9.0     0.0  NaN NaN NaN NaN NaN NaN NaN  \n",
       "\n",
       "[3 rows x 112 columns]"
      ]
     },
     "execution_count": 33,
     "metadata": {},
     "output_type": "execute_result"
    }
   ],
   "source": [
    "# Group by prop type\n",
    "\n",
    "data_by_proptype = data.groupby('PROPTYPE')\n",
    "data_by_proptype.describe()"
   ]
  },
  {
   "cell_type": "code",
   "execution_count": 34,
   "metadata": {
    "pycharm": {
     "name": "#%%\n"
    }
   },
   "outputs": [
    {
     "data": {
      "text/html": [
       "<div>\n",
       "<style scoped>\n",
       "    .dataframe tbody tr th:only-of-type {\n",
       "        vertical-align: middle;\n",
       "    }\n",
       "\n",
       "    .dataframe tbody tr th {\n",
       "        vertical-align: top;\n",
       "    }\n",
       "\n",
       "    .dataframe thead th {\n",
       "        text-align: right;\n",
       "    }\n",
       "</style>\n",
       "<table border=\"1\" class=\"dataframe\">\n",
       "  <thead>\n",
       "    <tr style=\"text-align: right;\">\n",
       "      <th></th>\n",
       "      <th>LISTPRICE</th>\n",
       "      <th>SOLDPRICE</th>\n",
       "      <th>BEDS</th>\n",
       "      <th>SQFT</th>\n",
       "    </tr>\n",
       "    <tr>\n",
       "      <th>PROPTYPE</th>\n",
       "      <th></th>\n",
       "      <th></th>\n",
       "      <th></th>\n",
       "      <th></th>\n",
       "    </tr>\n",
       "  </thead>\n",
       "  <tbody>\n",
       "    <tr>\n",
       "      <th>CC</th>\n",
       "      <td>512072.209661</td>\n",
       "      <td>515437.729363</td>\n",
       "      <td>2.087258</td>\n",
       "      <td>1328.087950</td>\n",
       "    </tr>\n",
       "    <tr>\n",
       "      <th>MF</th>\n",
       "      <td>498397.169421</td>\n",
       "      <td>493278.811983</td>\n",
       "      <td>6.121901</td>\n",
       "      <td>2891.136364</td>\n",
       "    </tr>\n",
       "    <tr>\n",
       "      <th>SF</th>\n",
       "      <td>464208.570802</td>\n",
       "      <td>456815.676056</td>\n",
       "      <td>3.344434</td>\n",
       "      <td>1980.067838</td>\n",
       "    </tr>\n",
       "  </tbody>\n",
       "</table>\n",
       "</div>"
      ],
      "text/plain": [
       "              LISTPRICE      SOLDPRICE      BEDS         SQFT\n",
       "PROPTYPE                                                     \n",
       "CC        512072.209661  515437.729363  2.087258  1328.087950\n",
       "MF        498397.169421  493278.811983  6.121901  2891.136364\n",
       "SF        464208.570802  456815.676056  3.344434  1980.067838"
      ]
     },
     "execution_count": 34,
     "metadata": {},
     "output_type": "execute_result"
    }
   ],
   "source": [
    "# Zoom in\n",
    "\n",
    "data_by_proptype[['LISTPRICE', 'SOLDPRICE',  'BEDS', 'SQFT']].mean()"
   ]
  },
  {
   "cell_type": "markdown",
   "metadata": {},
   "source": [
    "# 3. Introducing [Linear Regression](https://scikit-learn.org/stable/modules/linear_model.html) with Scikit Learn"
   ]
  },
  {
   "cell_type": "code",
   "execution_count": 35,
   "metadata": {
    "pycharm": {
     "name": "#%%\n"
    }
   },
   "outputs": [],
   "source": [
    "# Import sklearn\n",
    "\n",
    "from sklearn import datasets, linear_model\n",
    "from sklearn.metrics import mean_squared_error, r2_score\n"
   ]
  },
  {
   "cell_type": "code",
   "execution_count": 36,
   "metadata": {
    "pycharm": {
     "name": "#%%\n"
    }
   },
   "outputs": [],
   "source": [
    "# Define model\n",
    "\n",
    "regr = linear_model.LinearRegression()"
   ]
  },
  {
   "cell_type": "code",
   "execution_count": 37,
   "metadata": {
    "pycharm": {
     "name": "#%%\n"
    }
   },
   "outputs": [],
   "source": [
    "# Define label and features (adjustable)\n",
    "\n",
    "label = ['SOLDPRICE']\n",
    "features = ['BEDS', 'BATHS', 'SQFT', 'AGE', 'LOTSIZE', 'GARAGE']\n"
   ]
  },
  {
   "cell_type": "code",
   "execution_count": 38,
   "metadata": {},
   "outputs": [
    {
     "data": {
      "text/html": [
       "<div>\n",
       "<style scoped>\n",
       "    .dataframe tbody tr th:only-of-type {\n",
       "        vertical-align: middle;\n",
       "    }\n",
       "\n",
       "    .dataframe tbody tr th {\n",
       "        vertical-align: top;\n",
       "    }\n",
       "\n",
       "    .dataframe thead th {\n",
       "        text-align: right;\n",
       "    }\n",
       "</style>\n",
       "<table border=\"1\" class=\"dataframe\">\n",
       "  <thead>\n",
       "    <tr style=\"text-align: right;\">\n",
       "      <th></th>\n",
       "      <th>SOLDPRICE</th>\n",
       "    </tr>\n",
       "  </thead>\n",
       "  <tbody>\n",
       "    <tr>\n",
       "      <th>0</th>\n",
       "      <td>247000.0</td>\n",
       "    </tr>\n",
       "    <tr>\n",
       "      <th>1</th>\n",
       "      <td>338000.0</td>\n",
       "    </tr>\n",
       "    <tr>\n",
       "      <th>2</th>\n",
       "      <td>2950000.0</td>\n",
       "    </tr>\n",
       "    <tr>\n",
       "      <th>3</th>\n",
       "      <td>2600000.0</td>\n",
       "    </tr>\n",
       "    <tr>\n",
       "      <th>4</th>\n",
       "      <td>525000.0</td>\n",
       "    </tr>\n",
       "  </tbody>\n",
       "</table>\n",
       "</div>"
      ],
      "text/plain": [
       "   SOLDPRICE\n",
       "0   247000.0\n",
       "1   338000.0\n",
       "2  2950000.0\n",
       "3  2600000.0\n",
       "4   525000.0"
      ]
     },
     "execution_count": 38,
     "metadata": {},
     "output_type": "execute_result"
    }
   ],
   "source": [
    "data[label].head()"
   ]
  },
  {
   "cell_type": "code",
   "execution_count": 39,
   "metadata": {},
   "outputs": [
    {
     "data": {
      "text/html": [
       "<div>\n",
       "<style scoped>\n",
       "    .dataframe tbody tr th:only-of-type {\n",
       "        vertical-align: middle;\n",
       "    }\n",
       "\n",
       "    .dataframe tbody tr th {\n",
       "        vertical-align: top;\n",
       "    }\n",
       "\n",
       "    .dataframe thead th {\n",
       "        text-align: right;\n",
       "    }\n",
       "</style>\n",
       "<table border=\"1\" class=\"dataframe\">\n",
       "  <thead>\n",
       "    <tr style=\"text-align: right;\">\n",
       "      <th></th>\n",
       "      <th>BEDS</th>\n",
       "      <th>BATHS</th>\n",
       "      <th>SQFT</th>\n",
       "      <th>AGE</th>\n",
       "      <th>LOTSIZE</th>\n",
       "      <th>GARAGE</th>\n",
       "    </tr>\n",
       "  </thead>\n",
       "  <tbody>\n",
       "    <tr>\n",
       "      <th>0</th>\n",
       "      <td>12</td>\n",
       "      <td>4.0</td>\n",
       "      <td>4772</td>\n",
       "      <td>118</td>\n",
       "      <td>8350.0</td>\n",
       "      <td>0</td>\n",
       "    </tr>\n",
       "    <tr>\n",
       "      <th>1</th>\n",
       "      <td>2</td>\n",
       "      <td>2.0</td>\n",
       "      <td>1545</td>\n",
       "      <td>2</td>\n",
       "      <td>NaN</td>\n",
       "      <td>2</td>\n",
       "    </tr>\n",
       "    <tr>\n",
       "      <th>2</th>\n",
       "      <td>5</td>\n",
       "      <td>6.5</td>\n",
       "      <td>6800</td>\n",
       "      <td>10</td>\n",
       "      <td>20564.0</td>\n",
       "      <td>3</td>\n",
       "    </tr>\n",
       "    <tr>\n",
       "      <th>3</th>\n",
       "      <td>4</td>\n",
       "      <td>4.5</td>\n",
       "      <td>6000</td>\n",
       "      <td>1</td>\n",
       "      <td>27559.0</td>\n",
       "      <td>3</td>\n",
       "    </tr>\n",
       "    <tr>\n",
       "      <th>4</th>\n",
       "      <td>3</td>\n",
       "      <td>3.0</td>\n",
       "      <td>2774</td>\n",
       "      <td>28</td>\n",
       "      <td>106286.0</td>\n",
       "      <td>2</td>\n",
       "    </tr>\n",
       "  </tbody>\n",
       "</table>\n",
       "</div>"
      ],
      "text/plain": [
       "   BEDS  BATHS  SQFT  AGE   LOTSIZE  GARAGE\n",
       "0    12    4.0  4772  118    8350.0       0\n",
       "1     2    2.0  1545    2       NaN       2\n",
       "2     5    6.5  6800   10   20564.0       3\n",
       "3     4    4.5  6000    1   27559.0       3\n",
       "4     3    3.0  2774   28  106286.0       2"
      ]
     },
     "execution_count": 39,
     "metadata": {},
     "output_type": "execute_result"
    }
   ],
   "source": [
    "data[features].head()"
   ]
  },
  {
   "cell_type": "code",
   "execution_count": 40,
   "metadata": {
    "pycharm": {
     "name": "#%%\n"
    }
   },
   "outputs": [
    {
     "name": "stdout",
     "output_type": "stream",
     "text": [
      "   SOLDPRICE      BEDS     BATHS      SQFT       AGE   LOTSIZE    GARAGE\n",
      "0   0.229297  0.666667  0.363636  0.493383  0.063339  0.000447  0.000000\n",
      "1   0.513870  0.166667  0.272727  0.286807  0.015030  0.005688  0.222222\n",
      "2   0.466783  0.166667  0.227273  0.206782  0.000537  0.001605  0.222222\n",
      "3   0.157135  0.111111  0.090909  0.000000  0.000000  0.000000  0.000000\n",
      "4   0.518989  0.166667  0.227273  0.272849  0.008052  0.001002  0.222222\n"
     ]
    }
   ],
   "source": [
    "# Filter out empties\n",
    "\n",
    "filter_data = data.copy()\n",
    "\n",
    "# Additional\n",
    "filter_data = filter_data[filter_data['SOLDPRICE'] < 1000000]\n",
    "\n",
    "\n",
    "# Apply to all\n",
    "for f in features + label:\n",
    "    # Out empties - (v. imputation)\n",
    "    filter_data = filter_data[filter_data[f].notna()]\n",
    "    \n",
    "    # Interaction terms\n",
    "    \n",
    "    # Standardize\n",
    "    filter_data[f] = (filter_data[f] - filter_data[f].mean()) / filter_data[f].std()\n",
    "    \n",
    "    # v. Normalize\n",
    "    filter_data[f] = (filter_data[f] - filter_data[f].min()) / (filter_data[f].max() - filter_data[f].min())\n",
    "    \n",
    "filter_data = filter_data.reset_index()\n",
    "\n",
    "print(filter_data[label + features].head())\n"
   ]
  },
  {
   "cell_type": "code",
   "execution_count": 41,
   "metadata": {
    "pycharm": {
     "name": "#%%\n"
    }
   },
   "outputs": [],
   "source": [
    "# Extract features and label\n",
    "\n",
    "label = filter_data[label]\n",
    "features = filter_data[features]\n"
   ]
  },
  {
   "cell_type": "code",
   "execution_count": 42,
   "metadata": {
    "scrolled": true
   },
   "outputs": [
    {
     "data": {
      "text/plain": [
       "((3838, 1), (3838, 6))"
      ]
     },
     "execution_count": 42,
     "metadata": {},
     "output_type": "execute_result"
    }
   ],
   "source": [
    "label.shape, features.shape"
   ]
  },
  {
   "cell_type": "code",
   "execution_count": 43,
   "metadata": {},
   "outputs": [
    {
     "data": {
      "text/html": [
       "<div>\n",
       "<style scoped>\n",
       "    .dataframe tbody tr th:only-of-type {\n",
       "        vertical-align: middle;\n",
       "    }\n",
       "\n",
       "    .dataframe tbody tr th {\n",
       "        vertical-align: top;\n",
       "    }\n",
       "\n",
       "    .dataframe thead th {\n",
       "        text-align: right;\n",
       "    }\n",
       "</style>\n",
       "<table border=\"1\" class=\"dataframe\">\n",
       "  <thead>\n",
       "    <tr style=\"text-align: right;\">\n",
       "      <th></th>\n",
       "      <th>BEDS</th>\n",
       "      <th>BATHS</th>\n",
       "      <th>SQFT</th>\n",
       "      <th>AGE</th>\n",
       "      <th>LOTSIZE</th>\n",
       "      <th>GARAGE</th>\n",
       "    </tr>\n",
       "  </thead>\n",
       "  <tbody>\n",
       "    <tr>\n",
       "      <th>100</th>\n",
       "      <td>0.166667</td>\n",
       "      <td>0.181818</td>\n",
       "      <td>0.119107</td>\n",
       "      <td>0.023618</td>\n",
       "      <td>0.000000</td>\n",
       "      <td>0.000000</td>\n",
       "    </tr>\n",
       "    <tr>\n",
       "      <th>101</th>\n",
       "      <td>0.277778</td>\n",
       "      <td>0.181818</td>\n",
       "      <td>0.323615</td>\n",
       "      <td>0.068706</td>\n",
       "      <td>0.000930</td>\n",
       "      <td>0.000000</td>\n",
       "    </tr>\n",
       "    <tr>\n",
       "      <th>102</th>\n",
       "      <td>0.222222</td>\n",
       "      <td>0.136364</td>\n",
       "      <td>0.235629</td>\n",
       "      <td>0.056361</td>\n",
       "      <td>0.000457</td>\n",
       "      <td>0.111111</td>\n",
       "    </tr>\n",
       "    <tr>\n",
       "      <th>103</th>\n",
       "      <td>0.166667</td>\n",
       "      <td>0.090909</td>\n",
       "      <td>0.169148</td>\n",
       "      <td>0.057971</td>\n",
       "      <td>0.000186</td>\n",
       "      <td>0.000000</td>\n",
       "    </tr>\n",
       "    <tr>\n",
       "      <th>104</th>\n",
       "      <td>0.166667</td>\n",
       "      <td>0.090909</td>\n",
       "      <td>0.142060</td>\n",
       "      <td>0.019860</td>\n",
       "      <td>0.000347</td>\n",
       "      <td>0.000000</td>\n",
       "    </tr>\n",
       "  </tbody>\n",
       "</table>\n",
       "</div>"
      ],
      "text/plain": [
       "         BEDS     BATHS      SQFT       AGE   LOTSIZE    GARAGE\n",
       "100  0.166667  0.181818  0.119107  0.023618  0.000000  0.000000\n",
       "101  0.277778  0.181818  0.323615  0.068706  0.000930  0.000000\n",
       "102  0.222222  0.136364  0.235629  0.056361  0.000457  0.111111\n",
       "103  0.166667  0.090909  0.169148  0.057971  0.000186  0.000000\n",
       "104  0.166667  0.090909  0.142060  0.019860  0.000347  0.000000"
      ]
     },
     "execution_count": 43,
     "metadata": {},
     "output_type": "execute_result"
    }
   ],
   "source": [
    "features[100:].head()"
   ]
  },
  {
   "cell_type": "code",
   "execution_count": 44,
   "metadata": {
    "pycharm": {
     "name": "#%%\n"
    }
   },
   "outputs": [
    {
     "name": "stdout",
     "output_type": "stream",
     "text": [
      "Train shape\n",
      "(959, 6) (959, 1)\n",
      "\n",
      "Test shape\n",
      "(2879, 6) (2879, 1)\n"
     ]
    }
   ],
   "source": [
    "# Set up testing and training (adjustable)\n",
    "split = int(len(filter_data) * 0.25)\n",
    "\n",
    "features_train = features[:split]\n",
    "features_test = features[split:]\n",
    "label_train = label[:split]\n",
    "label_test = label[split:]\n",
    "\n",
    "# Check shapes\n",
    "\n",
    "print (\"Train shape\")\n",
    "print (features_train.shape, label_train.shape)\n",
    "print (\"\\nTest shape\")\n",
    "print (features_test.shape, label_test.shape)"
   ]
  },
  {
   "cell_type": "code",
   "execution_count": 45,
   "metadata": {},
   "outputs": [
    {
     "data": {
      "text/plain": [
       "959"
      ]
     },
     "execution_count": 45,
     "metadata": {},
     "output_type": "execute_result"
    }
   ],
   "source": [
    "split"
   ]
  },
  {
   "cell_type": "code",
   "execution_count": 46,
   "metadata": {},
   "outputs": [
    {
     "data": {
      "text/html": [
       "<div>\n",
       "<style scoped>\n",
       "    .dataframe tbody tr th:only-of-type {\n",
       "        vertical-align: middle;\n",
       "    }\n",
       "\n",
       "    .dataframe tbody tr th {\n",
       "        vertical-align: top;\n",
       "    }\n",
       "\n",
       "    .dataframe thead th {\n",
       "        text-align: right;\n",
       "    }\n",
       "</style>\n",
       "<table border=\"1\" class=\"dataframe\">\n",
       "  <thead>\n",
       "    <tr style=\"text-align: right;\">\n",
       "      <th></th>\n",
       "      <th>BEDS</th>\n",
       "      <th>BATHS</th>\n",
       "      <th>SQFT</th>\n",
       "      <th>AGE</th>\n",
       "      <th>LOTSIZE</th>\n",
       "      <th>GARAGE</th>\n",
       "    </tr>\n",
       "  </thead>\n",
       "  <tbody>\n",
       "    <tr>\n",
       "      <th>0</th>\n",
       "      <td>0.666667</td>\n",
       "      <td>0.363636</td>\n",
       "      <td>0.493383</td>\n",
       "      <td>0.063339</td>\n",
       "      <td>0.000447</td>\n",
       "      <td>0.000000</td>\n",
       "    </tr>\n",
       "    <tr>\n",
       "      <th>1</th>\n",
       "      <td>0.166667</td>\n",
       "      <td>0.272727</td>\n",
       "      <td>0.286807</td>\n",
       "      <td>0.015030</td>\n",
       "      <td>0.005688</td>\n",
       "      <td>0.222222</td>\n",
       "    </tr>\n",
       "    <tr>\n",
       "      <th>2</th>\n",
       "      <td>0.166667</td>\n",
       "      <td>0.227273</td>\n",
       "      <td>0.206782</td>\n",
       "      <td>0.000537</td>\n",
       "      <td>0.001605</td>\n",
       "      <td>0.222222</td>\n",
       "    </tr>\n",
       "    <tr>\n",
       "      <th>3</th>\n",
       "      <td>0.111111</td>\n",
       "      <td>0.090909</td>\n",
       "      <td>0.000000</td>\n",
       "      <td>0.000000</td>\n",
       "      <td>0.000000</td>\n",
       "      <td>0.000000</td>\n",
       "    </tr>\n",
       "    <tr>\n",
       "      <th>4</th>\n",
       "      <td>0.166667</td>\n",
       "      <td>0.227273</td>\n",
       "      <td>0.272849</td>\n",
       "      <td>0.008052</td>\n",
       "      <td>0.001002</td>\n",
       "      <td>0.222222</td>\n",
       "    </tr>\n",
       "    <tr>\n",
       "      <th>...</th>\n",
       "      <td>...</td>\n",
       "      <td>...</td>\n",
       "      <td>...</td>\n",
       "      <td>...</td>\n",
       "      <td>...</td>\n",
       "      <td>...</td>\n",
       "    </tr>\n",
       "    <tr>\n",
       "      <th>3833</th>\n",
       "      <td>0.166667</td>\n",
       "      <td>0.227273</td>\n",
       "      <td>0.254963</td>\n",
       "      <td>0.000000</td>\n",
       "      <td>0.001072</td>\n",
       "      <td>0.333333</td>\n",
       "    </tr>\n",
       "    <tr>\n",
       "      <th>3834</th>\n",
       "      <td>0.111111</td>\n",
       "      <td>0.090909</td>\n",
       "      <td>0.118900</td>\n",
       "      <td>0.036500</td>\n",
       "      <td>0.000414</td>\n",
       "      <td>0.000000</td>\n",
       "    </tr>\n",
       "    <tr>\n",
       "      <th>3835</th>\n",
       "      <td>0.111111</td>\n",
       "      <td>0.181818</td>\n",
       "      <td>0.119520</td>\n",
       "      <td>0.026838</td>\n",
       "      <td>0.003147</td>\n",
       "      <td>0.000000</td>\n",
       "    </tr>\n",
       "    <tr>\n",
       "      <th>3836</th>\n",
       "      <td>0.222222</td>\n",
       "      <td>0.136364</td>\n",
       "      <td>0.187965</td>\n",
       "      <td>0.021471</td>\n",
       "      <td>0.001725</td>\n",
       "      <td>0.000000</td>\n",
       "    </tr>\n",
       "    <tr>\n",
       "      <th>3837</th>\n",
       "      <td>0.166667</td>\n",
       "      <td>0.227273</td>\n",
       "      <td>0.252068</td>\n",
       "      <td>0.009662</td>\n",
       "      <td>0.001766</td>\n",
       "      <td>0.222222</td>\n",
       "    </tr>\n",
       "  </tbody>\n",
       "</table>\n",
       "<p>3838 rows × 6 columns</p>\n",
       "</div>"
      ],
      "text/plain": [
       "          BEDS     BATHS      SQFT       AGE   LOTSIZE    GARAGE\n",
       "0     0.666667  0.363636  0.493383  0.063339  0.000447  0.000000\n",
       "1     0.166667  0.272727  0.286807  0.015030  0.005688  0.222222\n",
       "2     0.166667  0.227273  0.206782  0.000537  0.001605  0.222222\n",
       "3     0.111111  0.090909  0.000000  0.000000  0.000000  0.000000\n",
       "4     0.166667  0.227273  0.272849  0.008052  0.001002  0.222222\n",
       "...        ...       ...       ...       ...       ...       ...\n",
       "3833  0.166667  0.227273  0.254963  0.000000  0.001072  0.333333\n",
       "3834  0.111111  0.090909  0.118900  0.036500  0.000414  0.000000\n",
       "3835  0.111111  0.181818  0.119520  0.026838  0.003147  0.000000\n",
       "3836  0.222222  0.136364  0.187965  0.021471  0.001725  0.000000\n",
       "3837  0.166667  0.227273  0.252068  0.009662  0.001766  0.222222\n",
       "\n",
       "[3838 rows x 6 columns]"
      ]
     },
     "execution_count": 46,
     "metadata": {},
     "output_type": "execute_result"
    }
   ],
   "source": [
    "features[:]"
   ]
  },
  {
   "cell_type": "code",
   "execution_count": null,
   "metadata": {},
   "outputs": [],
   "source": []
  },
  {
   "cell_type": "code",
   "execution_count": 47,
   "metadata": {
    "pycharm": {
     "name": "#%%\n"
    }
   },
   "outputs": [
    {
     "data": {
      "text/plain": [
       "LinearRegression()"
      ]
     },
     "execution_count": 47,
     "metadata": {},
     "output_type": "execute_result"
    }
   ],
   "source": [
    "# Fit training sets\n",
    "\n",
    "regr.fit(features_train, label_train)"
   ]
  },
  {
   "cell_type": "code",
   "execution_count": 48,
   "metadata": {
    "pycharm": {
     "name": "#%%\n"
    }
   },
   "outputs": [
    {
     "name": "stdout",
     "output_type": "stream",
     "text": [
      "Variance score: 0.29\n"
     ]
    }
   ],
   "source": [
    "# Make predictions using testing set\n",
    "\n",
    "label_pred = regr.predict(features_test)\n",
    "\n",
    "# Explained variance score: 1 is perfect prediction\n",
    "\n",
    "print('Variance score: %.2f' % r2_score(label_test, label_pred))\n"
   ]
  },
  {
   "cell_type": "code",
   "execution_count": 49,
   "metadata": {},
   "outputs": [
    {
     "data": {
      "text/plain": [
       "array([[0.35156518],\n",
       "       [0.36515032],\n",
       "       [0.32062937],\n",
       "       ...,\n",
       "       [0.35171891],\n",
       "       [0.29884309],\n",
       "       [0.5140116 ]])"
      ]
     },
     "execution_count": 49,
     "metadata": {},
     "output_type": "execute_result"
    }
   ],
   "source": [
    "label_pred"
   ]
  },
  {
   "cell_type": "code",
   "execution_count": null,
   "metadata": {},
   "outputs": [],
   "source": []
  },
  {
   "cell_type": "markdown",
   "metadata": {},
   "source": [
    "### 4. Plot, aka \"Visualize\""
   ]
  },
  {
   "cell_type": "code",
   "execution_count": 50,
   "metadata": {
    "pycharm": {
     "name": "#%%\n"
    }
   },
   "outputs": [],
   "source": [
    "# Import\n",
    "import matplotlib.pyplot as plt"
   ]
  },
  {
   "cell_type": "code",
   "execution_count": 51,
   "metadata": {
    "pycharm": {
     "name": "#%%\n"
    }
   },
   "outputs": [
    {
     "data": {
      "image/png": "[encoded data removed]",
      "text/plain": [
       "<Figure size 1440x360 with 1 Axes>"
      ]
     },
     "metadata": {},
     "output_type": "display_data"
    }
   ],
   "source": [
    "\n",
    "# Plot outputs\n",
    "plt.figure(figsize=(20, 5))\n",
    "plt.scatter(label_test, label_pred, color='black')\n",
    "plt.plot([label_test.min(), label_test.max()], [label_test.min(), label_test.max()], 'k--', lw=4, color='blue')\n",
    "\n",
    "plt.ylabel('Predicted')\n",
    "plt.xlabel('Measured')\n",
    "\n",
    "plt.xticks(())\n",
    "plt.yticks(())\n",
    "\n",
    "plt.show()"
   ]
  },
  {
   "cell_type": "code",
   "execution_count": 52,
   "metadata": {
    "pycharm": {
     "name": "#%%\n"
    }
   },
   "outputs": [
    {
     "data": {
      "image/png": "[encoded data removed]",
      "text/plain": [
       "<Figure size 720x504 with 1 Axes>"
      ]
     },
     "metadata": {
      "needs_background": "light"
     },
     "output_type": "display_data"
    }
   ],
   "source": [
    "# Residual plot\n",
    "\n",
    "plt.figure(figsize=(10, 7))\n",
    "\n",
    "resid = label_test - regr.predict(features_test)\n",
    "\n",
    "plt.axhline(y=0, linestyle='-', linewidth=2, color=\"r\")\n",
    "plt.scatter(x=label_pred, y=resid, alpha=0.5, s=3)\n",
    "\n",
    "plt.title(\"Residual plot\")\n",
    "plt.ylabel(r\"Y-$\\hat Y$\")\n",
    "plt.xlabel(r'$\\hat Y$')\n",
    "plt.tight_layout()\n",
    "plt.show()"
   ]
  },
  {
   "cell_type": "markdown",
   "metadata": {},
   "source": [
    "### 7. Export"
   ]
  },
  {
   "cell_type": "code",
   "execution_count": 53,
   "metadata": {
    "pycharm": {
     "name": "#%%\n"
    }
   },
   "outputs": [
    {
     "data": {
      "text/plain": [
       "['regr_test.pkl']"
      ]
     },
     "execution_count": 53,
     "metadata": {},
     "output_type": "execute_result"
    }
   ],
   "source": [
    "# Download model as pkl file\n",
    "\n",
    "import joblib\n",
    "joblib.dump(regr, 'regr_test.pkl')"
   ]
  },
  {
   "cell_type": "markdown",
   "metadata": {},
   "source": [
    "# HOMEWORK 1"
   ]
  },
  {
   "cell_type": "markdown",
   "metadata": {},
   "source": [
    "### 6. Train Test Split"
   ]
  },
  {
   "cell_type": "markdown",
   "metadata": {},
   "source": [
    "### Homework_1 _ Linear Regression "
   ]
  },
  {
   "cell_type": "code",
   "execution_count": 54,
   "metadata": {},
   "outputs": [],
   "source": [
    "from sklearn.model_selection import train_test_split"
   ]
  },
  {
   "cell_type": "code",
   "execution_count": 55,
   "metadata": {},
   "outputs": [],
   "source": [
    "y = label\n",
    "X = features"
   ]
  },
  {
   "cell_type": "code",
   "execution_count": 56,
   "metadata": {
    "scrolled": true
   },
   "outputs": [],
   "source": [
    "X_train, X_test, y_train, y_test = train_test_split(X, y, test_size=0.33, random_state=101)"
   ]
  },
  {
   "cell_type": "code",
   "execution_count": 57,
   "metadata": {},
   "outputs": [],
   "source": [
    "lreg = linear_model.LinearRegression()"
   ]
  },
  {
   "cell_type": "code",
   "execution_count": 58,
   "metadata": {},
   "outputs": [
    {
     "data": {
      "text/plain": [
       "LinearRegression()"
      ]
     },
     "execution_count": 58,
     "metadata": {},
     "output_type": "execute_result"
    }
   ],
   "source": [
    "lreg.fit(X_train,y_train)"
   ]
  },
  {
   "cell_type": "code",
   "execution_count": 59,
   "metadata": {},
   "outputs": [],
   "source": [
    "predictions = lreg.predict(X_test)"
   ]
  },
  {
   "cell_type": "code",
   "execution_count": 60,
   "metadata": {},
   "outputs": [],
   "source": [
    "y_pred = lreg.predict(X_test)"
   ]
  },
  {
   "cell_type": "code",
   "execution_count": 61,
   "metadata": {
    "scrolled": true
   },
   "outputs": [
    {
     "name": "stdout",
     "output_type": "stream",
     "text": [
      "Coefficients: \n",
      " [[-0.77944931  0.71836823  0.95746651 -0.14230169 -0.05987295  0.19577492]]\n"
     ]
    }
   ],
   "source": [
    "print('Coefficients: \\n', regr.coef_)"
   ]
  },
  {
   "cell_type": "code",
   "execution_count": 62,
   "metadata": {},
   "outputs": [
    {
     "name": "stdout",
     "output_type": "stream",
     "text": [
      "Mean squared error: 0.03\n"
     ]
    }
   ],
   "source": [
    "rmse_lm = mean_squared_error(y_test, y_pred)\n",
    "print('Mean squared error: %.2f' % rmse_lm)"
   ]
  },
  {
   "cell_type": "code",
   "execution_count": 63,
   "metadata": {},
   "outputs": [
    {
     "name": "stdout",
     "output_type": "stream",
     "text": [
      "Variance score: 0.31\n"
     ]
    }
   ],
   "source": [
    "print('Variance score: %.2f' % r2_score(y_test, y_pred))"
   ]
  },
  {
   "cell_type": "code",
   "execution_count": 64,
   "metadata": {},
   "outputs": [
    {
     "data": {
      "image/png": "[encoded data removed]",
      "text/plain": [
       "<Figure size 1440x720 with 1 Axes>"
      ]
     },
     "metadata": {},
     "output_type": "display_data"
    }
   ],
   "source": [
    "# Plot outputs\n",
    "plt.figure(figsize=(20, 10))\n",
    "plt.scatter(y_test, y_pred, color='black')\n",
    "plt.plot([y_test.min(), y_test.max()], [y_test.min(), y_test.max()], 'k--', lw=4, color='blue')\n",
    "\n",
    "plt.ylabel('Predicted')\n",
    "plt.xlabel('Measured')\n",
    "\n",
    "plt.xticks(())\n",
    "plt.yticks(())\n",
    "\n",
    "plt.show()"
   ]
  },
  {
   "cell_type": "code",
   "execution_count": 65,
   "metadata": {},
   "outputs": [
    {
     "data": {
      "text/plain": [
       "['lReg.pkl']"
      ]
     },
     "execution_count": 65,
     "metadata": {},
     "output_type": "execute_result"
    }
   ],
   "source": [
    "import joblib\n",
    "joblib.dump(lreg, 'lReg.pkl')"
   ]
  },
  {
   "cell_type": "markdown",
   "metadata": {},
   "source": [
    "### Homework_1_DecisionTree"
   ]
  },
  {
   "cell_type": "code",
   "execution_count": 66,
   "metadata": {},
   "outputs": [],
   "source": [
    "from sklearn.tree import DecisionTreeRegressor"
   ]
  },
  {
   "cell_type": "code",
   "execution_count": 67,
   "metadata": {
    "scrolled": true
   },
   "outputs": [],
   "source": [
    "dt = DecisionTreeRegressor(max_depth=4, min_samples_leaf=0.1,random_state=3)"
   ]
  },
  {
   "cell_type": "code",
   "execution_count": 68,
   "metadata": {},
   "outputs": [
    {
     "data": {
      "text/plain": [
       "DecisionTreeRegressor(max_depth=4, min_samples_leaf=0.1, random_state=3)"
      ]
     },
     "execution_count": 68,
     "metadata": {},
     "output_type": "execute_result"
    }
   ],
   "source": [
    "dt.fit(X_train, y_train)"
   ]
  },
  {
   "cell_type": "code",
   "execution_count": 69,
   "metadata": {},
   "outputs": [],
   "source": [
    "y_pred = dt.predict(X_test)"
   ]
  },
  {
   "cell_type": "code",
   "execution_count": 70,
   "metadata": {},
   "outputs": [],
   "source": [
    "mse_dt = mean_squared_error(y_test, y_pred)"
   ]
  },
  {
   "cell_type": "code",
   "execution_count": 71,
   "metadata": {},
   "outputs": [],
   "source": [
    "rmse_dt = mse_dt**(1/2)"
   ]
  },
  {
   "cell_type": "code",
   "execution_count": 72,
   "metadata": {},
   "outputs": [
    {
     "name": "stdout",
     "output_type": "stream",
     "text": [
      "Mean squared error: 0.17\n"
     ]
    }
   ],
   "source": [
    "print('Mean squared error: %.2f' % rmse_dt)"
   ]
  },
  {
   "cell_type": "code",
   "execution_count": 73,
   "metadata": {},
   "outputs": [
    {
     "name": "stdout",
     "output_type": "stream",
     "text": [
      "Variance score: 0.29\n"
     ]
    }
   ],
   "source": [
    "print('Variance score: %.2f' % r2_score(y_test, y_pred))"
   ]
  },
  {
   "cell_type": "code",
   "execution_count": 74,
   "metadata": {
    "scrolled": true
   },
   "outputs": [
    {
     "data": {
      "image/png": "[encoded data removed]",
      "text/plain": [
       "<Figure size 1440x720 with 1 Axes>"
      ]
     },
     "metadata": {},
     "output_type": "display_data"
    }
   ],
   "source": [
    "# Plot outputs\n",
    "plt.figure(figsize=(20, 10))\n",
    "plt.scatter(y_test, y_pred, color='black')\n",
    "plt.plot([y_test.min(), y_test.max()], [y_test.min(), y_test.max()], 'k--', lw=4, color='blue')\n",
    "\n",
    "plt.ylabel('Predicted')\n",
    "plt.xlabel('Measured')\n",
    "\n",
    "plt.xticks(())\n",
    "plt.yticks(())\n",
    "\n",
    "plt.show()"
   ]
  },
  {
   "cell_type": "code",
   "execution_count": 75,
   "metadata": {},
   "outputs": [
    {
     "data": {
      "text/plain": [
       "['dtReg.pkl']"
      ]
     },
     "execution_count": 75,
     "metadata": {},
     "output_type": "execute_result"
    }
   ],
   "source": [
    "import joblib\n",
    "joblib.dump(dt, 'dtReg.pkl')"
   ]
  },
  {
   "cell_type": "code",
   "execution_count": null,
   "metadata": {},
   "outputs": [],
   "source": []
  },
  {
   "cell_type": "code",
   "execution_count": null,
   "metadata": {
    "pycharm": {
     "name": "#%%\n"
    }
   },
   "outputs": [],
   "source": [
    "# YOUR TURN\n",
    "# Use sklearn train|test|split\n",
    "# Ref. https://scikit-learn.org/stable/modules/generated/sklearn.model_selection.train_test_split.html\n",
    "\n",
    "\n",
    "# from sklearn.model_selection import train_test_split\n",
    "\n",
    "\n",
    "# Init x, y test,train @ 33% size (sklearn)\n",
    "\n",
    "\n",
    "# Determine linear_model (sklearn - above))\n",
    "\n",
    "\n",
    "# Train linear_model (sklearn)\n",
    "\n",
    "\n",
    "# Score Method 1: (sklearn)\n",
    "# Ref. https://stackoverflow.com/questions/45529907/difference-between-model-score-vs-r2-score\n",
    "#  https://scikit-learn.org/stable/modules/generated/sklearn.model_selection.train_test_split.html\n",
    "\n",
    "\n",
    "# Explained variance score: 1 is perfect prediction\n",
    "\n",
    "\n",
    "# Score Method 2 (sklearn)\n",
    "\n",
    "\n",
    "# Plot outputs (matplotlab - above)\n",
    "\n",
    "# Download model as pkl file\n"
   ]
  },
  {
   "cell_type": "code",
   "execution_count": 154,
   "metadata": {},
   "outputs": [],
   "source": [
    "from sklearn.model_selection import train_test_split"
   ]
  },
  {
   "cell_type": "code",
   "execution_count": 166,
   "metadata": {},
   "outputs": [],
   "source": [
    "# Init x, y test,train @ 33% size (sklearn)\n",
    "split = int(len(filter_data) * 0.33)\n",
    "\n",
    "features_train = features[:split]\n",
    "features_test = features[split:]\n",
    "label_train = label[:split]\n",
    "label_test = label[split:]"
   ]
  },
  {
   "cell_type": "code",
   "execution_count": 156,
   "metadata": {},
   "outputs": [],
   "source": [
    "# Determine linear_model (sklearn - above))\n",
    "regr = linear_model.LinearRegression()"
   ]
  },
  {
   "cell_type": "code",
   "execution_count": 167,
   "metadata": {},
   "outputs": [
    {
     "data": {
      "text/plain": [
       "['BEDS', 'BATHS', 'SQFT', 'AGE', 'LOTSIZE', 'GARAGE']"
      ]
     },
     "execution_count": 167,
     "metadata": {},
     "output_type": "execute_result"
    }
   ],
   "source": []
  },
  {
   "cell_type": "markdown",
   "metadata": {},
   "source": [
    "### 7. Decision Tree"
   ]
  },
  {
   "cell_type": "code",
   "execution_count": null,
   "metadata": {
    "pycharm": {
     "name": "#%%\n"
    }
   },
   "outputs": [],
   "source": [
    "# YOUR TURN\n",
    "# Run DecisionTreeRegressor\n",
    "# HINT: https://scikit-learn.org/stable/modules/generated/sklearn.tree.DecisionTreeRegressor.html\n",
    "\n",
    "\n",
    "# Create regressor\n",
    "\n",
    "\n",
    "# Fit\n",
    "\n",
    "\n",
    "# Predictions\n",
    "\n",
    "\n",
    "# Score\n",
    "\n",
    "\n",
    "# Plot outputs (matplotlab - above)\n",
    "\n",
    "\n",
    "# Download model as pkl file\n"
   ]
  },
  {
   "cell_type": "code",
   "execution_count": null,
   "metadata": {},
   "outputs": [],
   "source": []
  },
  {
   "cell_type": "code",
   "execution_count": null,
   "metadata": {},
   "outputs": [],
   "source": []
  },
  {
   "cell_type": "code",
   "execution_count": null,
   "metadata": {},
   "outputs": [],
   "source": []
  },
  {
   "cell_type": "code",
   "execution_count": null,
   "metadata": {},
   "outputs": [],
   "source": []
  },
  {
   "cell_type": "code",
   "execution_count": null,
   "metadata": {},
   "outputs": [],
   "source": []
  },
  {
   "cell_type": "code",
   "execution_count": null,
   "metadata": {},
   "outputs": [],
   "source": []
  },
  {
   "cell_type": "code",
   "execution_count": null,
   "metadata": {},
   "outputs": [],
   "source": [
    "# print('BED: %.2f' % metrics.mean_absolute_error(y_test, predictions))\n",
    "#print('MSE:', metrics.mean_squared_error(y_test, predictions))\n",
    "#print('RMSE:', np.sqrt(metrics.mean_squared_error(y_test, predictions)))\n",
    "# from sklearn import metrics"
   ]
  },
  {
   "cell_type": "code",
   "execution_count": null,
   "metadata": {},
   "outputs": [],
   "source": [
    "**/.ipybyv_checjpoints "
   ]
  },
  {
   "cell_type": "markdown",
   "metadata": {},
   "source": [
    "### Ref\n",
    "    + https://stackoverflow.com/questions/26414913/normalize-columns-of-pandas-data-frame"
   ]
  }
 ],
 "metadata": {
  "kernelspec": {
   "display_name": "Python 3",
   "language": "python",
   "name": "python3"
  },
  "language_info": {
   "codemirror_mode": {
    "name": "ipython",
    "version": 3
   },
   "file_extension": ".py",
   "mimetype": "text/x-python",
   "name": "python",
   "nbconvert_exporter": "python",
   "pygments_lexer": "ipython3",
   "version": "3.8.1"
  }
 },
 "nbformat": 4,
 "nbformat_minor": 1
}

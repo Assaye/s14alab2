{
 "cells": [
  {
   "cell_type": "code",
   "execution_count": 74,
   "metadata": {},
   "outputs": [],
   "source": [
    "# Imports\n",
    "import numpy as np\n",
    "import pandas as pd\n",
    "import matplotlib.pyplot as plt"
   ]
  },
  {
   "cell_type": "code",
   "execution_count": 75,
   "metadata": {},
   "outputs": [],
   "source": [
    "data = pd.read_csv('./data/Boston_March2018.csv')"
   ]
  },
  {
   "cell_type": "code",
   "execution_count": 76,
   "metadata": {},
   "outputs": [
    {
     "data": {
      "text/html": [
       "<div>\n",
       "<style scoped>\n",
       "    .dataframe tbody tr th:only-of-type {\n",
       "        vertical-align: middle;\n",
       "    }\n",
       "\n",
       "    .dataframe tbody tr th {\n",
       "        vertical-align: top;\n",
       "    }\n",
       "\n",
       "    .dataframe thead th {\n",
       "        text-align: right;\n",
       "    }\n",
       "</style>\n",
       "<table border=\"1\" class=\"dataframe\">\n",
       "  <thead>\n",
       "    <tr style=\"text-align: right;\">\n",
       "      <th></th>\n",
       "      <th>MLSNUM</th>\n",
       "      <th>STATUS</th>\n",
       "      <th>LISTPRICE</th>\n",
       "      <th>SOLDPRICE</th>\n",
       "      <th>LISTDATE</th>\n",
       "      <th>SOLDDATE</th>\n",
       "      <th>EXPIREDDATE</th>\n",
       "      <th>DOM</th>\n",
       "      <th>DTO</th>\n",
       "      <th>ADDRESS</th>\n",
       "      <th>...</th>\n",
       "      <th>COOLING</th>\n",
       "      <th>ELEMENTARYSCHOOL</th>\n",
       "      <th>JUNIORHIGHSCHOOL</th>\n",
       "      <th>HIGHSCHOOL</th>\n",
       "      <th>OTHERFEATURES</th>\n",
       "      <th>PROPTYPE</th>\n",
       "      <th>STREETNAME</th>\n",
       "      <th>HOUSENUM1</th>\n",
       "      <th>HOUSENUM2</th>\n",
       "      <th>PHOTOURL</th>\n",
       "    </tr>\n",
       "  </thead>\n",
       "  <tbody>\n",
       "    <tr>\n",
       "      <th>0</th>\n",
       "      <td>72049670</td>\n",
       "      <td>SLD</td>\n",
       "      <td>239900.0</td>\n",
       "      <td>247000.0</td>\n",
       "      <td>8/6/2016</td>\n",
       "      <td>3/1/2018</td>\n",
       "      <td>NaN</td>\n",
       "      <td>295</td>\n",
       "      <td>295</td>\n",
       "      <td>16 Pine St</td>\n",
       "      <td>...</td>\n",
       "      <td>NaN</td>\n",
       "      <td>NaN</td>\n",
       "      <td>NaN</td>\n",
       "      <td>NaN</td>\n",
       "      <td>NaN</td>\n",
       "      <td>MF</td>\n",
       "      <td>Pine St</td>\n",
       "      <td>16</td>\n",
       "      <td>16</td>\n",
       "      <td>http://media.mlspin.com/photo.aspx?mls=72049670</td>\n",
       "    </tr>\n",
       "    <tr>\n",
       "      <th>1</th>\n",
       "      <td>72056522</td>\n",
       "      <td>SLD</td>\n",
       "      <td>338000.0</td>\n",
       "      <td>338000.0</td>\n",
       "      <td>8/22/2016</td>\n",
       "      <td>3/1/2018</td>\n",
       "      <td>NaN</td>\n",
       "      <td>545</td>\n",
       "      <td>515</td>\n",
       "      <td>80 Cherry Drive</td>\n",
       "      <td>...</td>\n",
       "      <td>NaN</td>\n",
       "      <td>NaN</td>\n",
       "      <td>NaN</td>\n",
       "      <td>NaN</td>\n",
       "      <td>Basement:Yes;Fireplaces:1;Roof:Asphalt/Fibergl...</td>\n",
       "      <td>CC</td>\n",
       "      <td>Cherry Drive</td>\n",
       "      <td>80</td>\n",
       "      <td>80</td>\n",
       "      <td>http://media.mlspin.com/photo.aspx?mls=72056522</td>\n",
       "    </tr>\n",
       "    <tr>\n",
       "      <th>2</th>\n",
       "      <td>72080286</td>\n",
       "      <td>SLD</td>\n",
       "      <td>2999999.0</td>\n",
       "      <td>2950000.0</td>\n",
       "      <td>10/12/2016</td>\n",
       "      <td>3/1/2018</td>\n",
       "      <td>NaN</td>\n",
       "      <td>504</td>\n",
       "      <td>493</td>\n",
       "      <td>80 Monadnock Road</td>\n",
       "      <td>...</td>\n",
       "      <td>NaN</td>\n",
       "      <td>WPS</td>\n",
       "      <td>WMS</td>\n",
       "      <td>WHS</td>\n",
       "      <td>Basement:Yes;Fireplaces:3;Roof:Asphalt/Fibergl...</td>\n",
       "      <td>SF</td>\n",
       "      <td>Monadnock Road</td>\n",
       "      <td>80</td>\n",
       "      <td>80</td>\n",
       "      <td>http://media.mlspin.com/photo.aspx?mls=72080286</td>\n",
       "    </tr>\n",
       "    <tr>\n",
       "      <th>3</th>\n",
       "      <td>72118879</td>\n",
       "      <td>SLD</td>\n",
       "      <td>2600000.0</td>\n",
       "      <td>2600000.0</td>\n",
       "      <td>2/14/2017</td>\n",
       "      <td>3/1/2018</td>\n",
       "      <td>NaN</td>\n",
       "      <td>28</td>\n",
       "      <td>14</td>\n",
       "      <td>15 Trevino Circle</td>\n",
       "      <td>...</td>\n",
       "      <td>NaN</td>\n",
       "      <td>West Elementary</td>\n",
       "      <td>West Middle</td>\n",
       "      <td>Andover High</td>\n",
       "      <td>Basement:Yes;Fireplaces:3;Roof:--;Floor:--;App...</td>\n",
       "      <td>SF</td>\n",
       "      <td>Trevino Circle</td>\n",
       "      <td>15</td>\n",
       "      <td>15</td>\n",
       "      <td>http://media.mlspin.com/photo.aspx?mls=72118879</td>\n",
       "    </tr>\n",
       "    <tr>\n",
       "      <th>4</th>\n",
       "      <td>72124101</td>\n",
       "      <td>SLD</td>\n",
       "      <td>525000.0</td>\n",
       "      <td>525000.0</td>\n",
       "      <td>2/28/2017</td>\n",
       "      <td>3/1/2018</td>\n",
       "      <td>NaN</td>\n",
       "      <td>867</td>\n",
       "      <td>287</td>\n",
       "      <td>53 Maple Ridge Rd</td>\n",
       "      <td>...</td>\n",
       "      <td>NaN</td>\n",
       "      <td>NaN</td>\n",
       "      <td>NaN</td>\n",
       "      <td>Northampton</td>\n",
       "      <td>Basement:Yes;Fireplaces:1;Roof:Asphalt/Fibergl...</td>\n",
       "      <td>SF</td>\n",
       "      <td>Maple Ridge Rd</td>\n",
       "      <td>53</td>\n",
       "      <td>53</td>\n",
       "      <td>http://media.mlspin.com/photo.aspx?mls=72124101</td>\n",
       "    </tr>\n",
       "  </tbody>\n",
       "</table>\n",
       "<p>5 rows × 38 columns</p>\n",
       "</div>"
      ],
      "text/plain": [
       "     MLSNUM STATUS  LISTPRICE  SOLDPRICE    LISTDATE  SOLDDATE  EXPIREDDATE  \\\n",
       "0  72049670    SLD   239900.0   247000.0    8/6/2016  3/1/2018          NaN   \n",
       "1  72056522    SLD   338000.0   338000.0   8/22/2016  3/1/2018          NaN   \n",
       "2  72080286    SLD  2999999.0  2950000.0  10/12/2016  3/1/2018          NaN   \n",
       "3  72118879    SLD  2600000.0  2600000.0   2/14/2017  3/1/2018          NaN   \n",
       "4  72124101    SLD   525000.0   525000.0   2/28/2017  3/1/2018          NaN   \n",
       "\n",
       "   DOM  DTO            ADDRESS  ... COOLING ELEMENTARYSCHOOL  \\\n",
       "0  295  295         16 Pine St  ...     NaN              NaN   \n",
       "1  545  515    80 Cherry Drive  ...     NaN              NaN   \n",
       "2  504  493  80 Monadnock Road  ...     NaN              WPS   \n",
       "3   28   14  15 Trevino Circle  ...     NaN  West Elementary   \n",
       "4  867  287  53 Maple Ridge Rd  ...     NaN              NaN   \n",
       "\n",
       "   JUNIORHIGHSCHOOL    HIGHSCHOOL  \\\n",
       "0               NaN           NaN   \n",
       "1               NaN           NaN   \n",
       "2               WMS           WHS   \n",
       "3       West Middle  Andover High   \n",
       "4               NaN   Northampton   \n",
       "\n",
       "                                       OTHERFEATURES  PROPTYPE  \\\n",
       "0                                                NaN        MF   \n",
       "1  Basement:Yes;Fireplaces:1;Roof:Asphalt/Fibergl...        CC   \n",
       "2  Basement:Yes;Fireplaces:3;Roof:Asphalt/Fibergl...        SF   \n",
       "3  Basement:Yes;Fireplaces:3;Roof:--;Floor:--;App...        SF   \n",
       "4  Basement:Yes;Fireplaces:1;Roof:Asphalt/Fibergl...        SF   \n",
       "\n",
       "       STREETNAME  HOUSENUM1  HOUSENUM2  \\\n",
       "0         Pine St         16         16   \n",
       "1    Cherry Drive         80         80   \n",
       "2  Monadnock Road         80         80   \n",
       "3  Trevino Circle         15         15   \n",
       "4  Maple Ridge Rd         53         53   \n",
       "\n",
       "                                          PHOTOURL  \n",
       "0  http://media.mlspin.com/photo.aspx?mls=72049670  \n",
       "1  http://media.mlspin.com/photo.aspx?mls=72056522  \n",
       "2  http://media.mlspin.com/photo.aspx?mls=72080286  \n",
       "3  http://media.mlspin.com/photo.aspx?mls=72118879  \n",
       "4  http://media.mlspin.com/photo.aspx?mls=72124101  \n",
       "\n",
       "[5 rows x 38 columns]"
      ]
     },
     "execution_count": 76,
     "metadata": {},
     "output_type": "execute_result"
    }
   ],
   "source": [
    "data.head()"
   ]
  },
  {
   "cell_type": "code",
   "execution_count": 77,
   "metadata": {},
   "outputs": [
    {
     "data": {
      "text/plain": [
       "(5171, 38)"
      ]
     },
     "execution_count": 77,
     "metadata": {},
     "output_type": "execute_result"
    }
   ],
   "source": [
    "data.shape"
   ]
  },
  {
   "cell_type": "code",
   "execution_count": 78,
   "metadata": {},
   "outputs": [
    {
     "name": "stdout",
     "output_type": "stream",
     "text": [
      "<class 'pandas.core.frame.DataFrame'>\n",
      "RangeIndex: 5171 entries, 0 to 5170\n",
      "Data columns (total 38 columns):\n",
      " #   Column               Non-Null Count  Dtype  \n",
      "---  ------               --------------  -----  \n",
      " 0   MLSNUM               5171 non-null   int64  \n",
      " 1   STATUS               5171 non-null   object \n",
      " 2   LISTPRICE            5171 non-null   float64\n",
      " 3   SOLDPRICE            5171 non-null   float64\n",
      " 4   LISTDATE             5171 non-null   object \n",
      " 5   SOLDDATE             5171 non-null   object \n",
      " 6   EXPIREDDATE          0 non-null      float64\n",
      " 7   DOM                  5171 non-null   int64  \n",
      " 8   DTO                  5171 non-null   int64  \n",
      " 9   ADDRESS              5171 non-null   object \n",
      " 10  CITY                 5171 non-null   object \n",
      " 11  STATE                5171 non-null   object \n",
      " 12  ZIP                  5171 non-null   int64  \n",
      " 13  AREA                 1131 non-null   object \n",
      " 14  BEDS                 5171 non-null   int64  \n",
      " 15  BATHS                5171 non-null   float64\n",
      " 16  SQFT                 5171 non-null   int64  \n",
      " 17  AGE                  5171 non-null   int64  \n",
      " 18  LOTSIZE              4064 non-null   float64\n",
      " 19  AGENTNAME            5171 non-null   object \n",
      " 20  OFFICENAME           5171 non-null   object \n",
      " 21  OFFICEPHONE          5171 non-null   object \n",
      " 22  SHOWINGINSTRUCTIONS  5171 non-null   object \n",
      " 23  REMARKS              5156 non-null   object \n",
      " 24  STYLE                4687 non-null   object \n",
      " 25  LEVEL                3455 non-null   object \n",
      " 26  GARAGE               5171 non-null   int64  \n",
      " 27  HEATING              4687 non-null   object \n",
      " 28  COOLING              0 non-null      float64\n",
      " 29  ELEMENTARYSCHOOL     1636 non-null   object \n",
      " 30  JUNIORHIGHSCHOOL     1712 non-null   object \n",
      " 31  HIGHSCHOOL           1878 non-null   object \n",
      " 32  OTHERFEATURES        4687 non-null   object \n",
      " 33  PROPTYPE             5171 non-null   object \n",
      " 34  STREETNAME           5171 non-null   object \n",
      " 35  HOUSENUM1            5170 non-null   object \n",
      " 36  HOUSENUM2            5171 non-null   object \n",
      " 37  PHOTOURL             5171 non-null   object \n",
      "dtypes: float64(6), int64(8), object(24)\n",
      "memory usage: 1.5+ MB\n"
     ]
    }
   ],
   "source": [
    "data.info()"
   ]
  },
  {
   "cell_type": "code",
   "execution_count": 79,
   "metadata": {
    "scrolled": true
   },
   "outputs": [
    {
     "data": {
      "text/html": [
       "<div>\n",
       "<style scoped>\n",
       "    .dataframe tbody tr th:only-of-type {\n",
       "        vertical-align: middle;\n",
       "    }\n",
       "\n",
       "    .dataframe tbody tr th {\n",
       "        vertical-align: top;\n",
       "    }\n",
       "\n",
       "    .dataframe thead th {\n",
       "        text-align: right;\n",
       "    }\n",
       "</style>\n",
       "<table border=\"1\" class=\"dataframe\">\n",
       "  <thead>\n",
       "    <tr style=\"text-align: right;\">\n",
       "      <th></th>\n",
       "      <th>MLSNUM</th>\n",
       "      <th>LISTPRICE</th>\n",
       "      <th>SOLDPRICE</th>\n",
       "      <th>EXPIREDDATE</th>\n",
       "      <th>DOM</th>\n",
       "      <th>DTO</th>\n",
       "      <th>ZIP</th>\n",
       "      <th>BEDS</th>\n",
       "      <th>BATHS</th>\n",
       "      <th>SQFT</th>\n",
       "      <th>AGE</th>\n",
       "      <th>LOTSIZE</th>\n",
       "      <th>GARAGE</th>\n",
       "      <th>COOLING</th>\n",
       "    </tr>\n",
       "  </thead>\n",
       "  <tbody>\n",
       "    <tr>\n",
       "      <th>count</th>\n",
       "      <td>5.171000e+03</td>\n",
       "      <td>5.171000e+03</td>\n",
       "      <td>5.171000e+03</td>\n",
       "      <td>0.0</td>\n",
       "      <td>5171.000000</td>\n",
       "      <td>5171.000000</td>\n",
       "      <td>5171.000000</td>\n",
       "      <td>5171.000000</td>\n",
       "      <td>5171.000000</td>\n",
       "      <td>5171.000000</td>\n",
       "      <td>5171.000000</td>\n",
       "      <td>4.064000e+03</td>\n",
       "      <td>5171.000000</td>\n",
       "      <td>0.0</td>\n",
       "    </tr>\n",
       "    <tr>\n",
       "      <th>mean</th>\n",
       "      <td>7.225305e+07</td>\n",
       "      <td>4.807745e+05</td>\n",
       "      <td>4.765988e+05</td>\n",
       "      <td>NaN</td>\n",
       "      <td>69.591762</td>\n",
       "      <td>48.977374</td>\n",
       "      <td>2062.584220</td>\n",
       "      <td>3.253336</td>\n",
       "      <td>2.031038</td>\n",
       "      <td>1883.277703</td>\n",
       "      <td>62.156256</td>\n",
       "      <td>4.236467e+04</td>\n",
       "      <td>0.865597</td>\n",
       "      <td>NaN</td>\n",
       "    </tr>\n",
       "    <tr>\n",
       "      <th>std</th>\n",
       "      <td>4.473714e+04</td>\n",
       "      <td>4.945971e+05</td>\n",
       "      <td>5.016361e+05</td>\n",
       "      <td>NaN</td>\n",
       "      <td>92.763384</td>\n",
       "      <td>68.484702</td>\n",
       "      <td>1119.135051</td>\n",
       "      <td>1.604884</td>\n",
       "      <td>1.050722</td>\n",
       "      <td>1038.769455</td>\n",
       "      <td>54.095052</td>\n",
       "      <td>3.790374e+05</td>\n",
       "      <td>0.985542</td>\n",
       "      <td>NaN</td>\n",
       "    </tr>\n",
       "    <tr>\n",
       "      <th>min</th>\n",
       "      <td>7.115216e+07</td>\n",
       "      <td>1.990000e+04</td>\n",
       "      <td>2.300000e+04</td>\n",
       "      <td>NaN</td>\n",
       "      <td>0.000000</td>\n",
       "      <td>0.000000</td>\n",
       "      <td>101.000000</td>\n",
       "      <td>0.000000</td>\n",
       "      <td>0.000000</td>\n",
       "      <td>0.000000</td>\n",
       "      <td>0.000000</td>\n",
       "      <td>0.000000e+00</td>\n",
       "      <td>0.000000</td>\n",
       "      <td>NaN</td>\n",
       "    </tr>\n",
       "    <tr>\n",
       "      <th>25%</th>\n",
       "      <td>7.224754e+07</td>\n",
       "      <td>2.499000e+05</td>\n",
       "      <td>2.450000e+05</td>\n",
       "      <td>NaN</td>\n",
       "      <td>18.000000</td>\n",
       "      <td>6.000000</td>\n",
       "      <td>1747.000000</td>\n",
       "      <td>2.000000</td>\n",
       "      <td>1.500000</td>\n",
       "      <td>1191.000000</td>\n",
       "      <td>27.000000</td>\n",
       "      <td>6.000000e+03</td>\n",
       "      <td>0.000000</td>\n",
       "      <td>NaN</td>\n",
       "    </tr>\n",
       "    <tr>\n",
       "      <th>50%</th>\n",
       "      <td>7.226724e+07</td>\n",
       "      <td>3.748000e+05</td>\n",
       "      <td>3.700000e+05</td>\n",
       "      <td>NaN</td>\n",
       "      <td>35.000000</td>\n",
       "      <td>20.000000</td>\n",
       "      <td>2048.000000</td>\n",
       "      <td>3.000000</td>\n",
       "      <td>2.000000</td>\n",
       "      <td>1638.000000</td>\n",
       "      <td>54.000000</td>\n",
       "      <td>1.174600e+04</td>\n",
       "      <td>1.000000</td>\n",
       "      <td>NaN</td>\n",
       "    </tr>\n",
       "    <tr>\n",
       "      <th>75%</th>\n",
       "      <td>7.227533e+07</td>\n",
       "      <td>5.499000e+05</td>\n",
       "      <td>5.515000e+05</td>\n",
       "      <td>NaN</td>\n",
       "      <td>94.000000</td>\n",
       "      <td>73.000000</td>\n",
       "      <td>2360.000000</td>\n",
       "      <td>4.000000</td>\n",
       "      <td>2.500000</td>\n",
       "      <td>2300.000000</td>\n",
       "      <td>98.000000</td>\n",
       "      <td>2.570625e+04</td>\n",
       "      <td>2.000000</td>\n",
       "      <td>NaN</td>\n",
       "    </tr>\n",
       "    <tr>\n",
       "      <th>max</th>\n",
       "      <td>7.230167e+07</td>\n",
       "      <td>1.050000e+07</td>\n",
       "      <td>1.511000e+07</td>\n",
       "      <td>NaN</td>\n",
       "      <td>1562.000000</td>\n",
       "      <td>938.000000</td>\n",
       "      <td>34452.000000</td>\n",
       "      <td>32.000000</td>\n",
       "      <td>32.000000</td>\n",
       "      <td>11200.000000</td>\n",
       "      <td>1863.000000</td>\n",
       "      <td>1.868724e+07</td>\n",
       "      <td>9.000000</td>\n",
       "      <td>NaN</td>\n",
       "    </tr>\n",
       "  </tbody>\n",
       "</table>\n",
       "</div>"
      ],
      "text/plain": [
       "             MLSNUM     LISTPRICE     SOLDPRICE  EXPIREDDATE          DOM  \\\n",
       "count  5.171000e+03  5.171000e+03  5.171000e+03          0.0  5171.000000   \n",
       "mean   7.225305e+07  4.807745e+05  4.765988e+05          NaN    69.591762   \n",
       "std    4.473714e+04  4.945971e+05  5.016361e+05          NaN    92.763384   \n",
       "min    7.115216e+07  1.990000e+04  2.300000e+04          NaN     0.000000   \n",
       "25%    7.224754e+07  2.499000e+05  2.450000e+05          NaN    18.000000   \n",
       "50%    7.226724e+07  3.748000e+05  3.700000e+05          NaN    35.000000   \n",
       "75%    7.227533e+07  5.499000e+05  5.515000e+05          NaN    94.000000   \n",
       "max    7.230167e+07  1.050000e+07  1.511000e+07          NaN  1562.000000   \n",
       "\n",
       "               DTO           ZIP         BEDS        BATHS          SQFT  \\\n",
       "count  5171.000000   5171.000000  5171.000000  5171.000000   5171.000000   \n",
       "mean     48.977374   2062.584220     3.253336     2.031038   1883.277703   \n",
       "std      68.484702   1119.135051     1.604884     1.050722   1038.769455   \n",
       "min       0.000000    101.000000     0.000000     0.000000      0.000000   \n",
       "25%       6.000000   1747.000000     2.000000     1.500000   1191.000000   \n",
       "50%      20.000000   2048.000000     3.000000     2.000000   1638.000000   \n",
       "75%      73.000000   2360.000000     4.000000     2.500000   2300.000000   \n",
       "max     938.000000  34452.000000    32.000000    32.000000  11200.000000   \n",
       "\n",
       "               AGE       LOTSIZE       GARAGE  COOLING  \n",
       "count  5171.000000  4.064000e+03  5171.000000      0.0  \n",
       "mean     62.156256  4.236467e+04     0.865597      NaN  \n",
       "std      54.095052  3.790374e+05     0.985542      NaN  \n",
       "min       0.000000  0.000000e+00     0.000000      NaN  \n",
       "25%      27.000000  6.000000e+03     0.000000      NaN  \n",
       "50%      54.000000  1.174600e+04     1.000000      NaN  \n",
       "75%      98.000000  2.570625e+04     2.000000      NaN  \n",
       "max    1863.000000  1.868724e+07     9.000000      NaN  "
      ]
     },
     "execution_count": 79,
     "metadata": {},
     "output_type": "execute_result"
    }
   ],
   "source": [
    "data.describe()"
   ]
  },
  {
   "cell_type": "code",
   "execution_count": 80,
   "metadata": {},
   "outputs": [
    {
     "data": {
      "text/plain": [
       "Index(['MLSNUM', 'STATUS', 'LISTPRICE', 'SOLDPRICE', 'LISTDATE', 'SOLDDATE',\n",
       "       'EXPIREDDATE', 'DOM', 'DTO', 'ADDRESS', 'CITY', 'STATE', 'ZIP', 'AREA',\n",
       "       'BEDS', 'BATHS', 'SQFT', 'AGE', 'LOTSIZE', 'AGENTNAME', 'OFFICENAME',\n",
       "       'OFFICEPHONE', 'SHOWINGINSTRUCTIONS', 'REMARKS', 'STYLE', 'LEVEL',\n",
       "       'GARAGE', 'HEATING', 'COOLING', 'ELEMENTARYSCHOOL', 'JUNIORHIGHSCHOOL',\n",
       "       'HIGHSCHOOL', 'OTHERFEATURES', 'PROPTYPE', 'STREETNAME', 'HOUSENUM1',\n",
       "       'HOUSENUM2', 'PHOTOURL'],\n",
       "      dtype='object')"
      ]
     },
     "execution_count": 80,
     "metadata": {},
     "output_type": "execute_result"
    }
   ],
   "source": [
    "data.columns"
   ]
  },
  {
   "cell_type": "code",
   "execution_count": 81,
   "metadata": {},
   "outputs": [],
   "source": [
    "y = data['SOLDPRICE']\n",
    "X = data[['BEDS', 'BATHS', 'SQFT', 'AGE', 'GARAGE']]"
   ]
  },
  {
   "cell_type": "code",
   "execution_count": 82,
   "metadata": {},
   "outputs": [],
   "source": [
    "# Import sklearn\n",
    "from sklearn.model_selection import train_test_split\n",
    "from sklearn import datasets, linear_model\n",
    "from sklearn.metrics import mean_squared_error, r2_score"
   ]
  },
  {
   "cell_type": "code",
   "execution_count": 83,
   "metadata": {},
   "outputs": [],
   "source": [
    "# Split the data into training/testing sets @ 33% size (sklearn)\n",
    "\n",
    "X_train, X_test, y_train, y_test = train_test_split(X, y, test_size=0.33, random_state=101)"
   ]
  },
  {
   "cell_type": "code",
   "execution_count": 84,
   "metadata": {},
   "outputs": [],
   "source": [
    "# Determine linear_model (sklearn - above)\n",
    "\n",
    "regr = linear_model.LinearRegression()"
   ]
  },
  {
   "cell_type": "code",
   "execution_count": 85,
   "metadata": {},
   "outputs": [
    {
     "data": {
      "text/plain": [
       "LinearRegression()"
      ]
     },
     "execution_count": 85,
     "metadata": {},
     "output_type": "execute_result"
    }
   ],
   "source": [
    "# Train linear_model (sklearn)\n",
    "\n",
    "regr.fit(X_train,y_train)"
   ]
  },
  {
   "cell_type": "code",
   "execution_count": 86,
   "metadata": {},
   "outputs": [],
   "source": [
    "# Make predictions using the testing set\n",
    "\n",
    "predictions = regr.predict(X_test)"
   ]
  },
  {
   "cell_type": "code",
   "execution_count": 87,
   "metadata": {},
   "outputs": [],
   "source": [
    "# Make predictions using testing set\n",
    "\n",
    "y_pred = regr.predict(X_test)"
   ]
  },
  {
   "cell_type": "code",
   "execution_count": 88,
   "metadata": {},
   "outputs": [
    {
     "name": "stdout",
     "output_type": "stream",
     "text": [
      "Coefficients: \n",
      " [-9.70728381e+04  2.57825668e+05  1.55666580e+02  7.99176833e+02\n",
      " -1.91261723e+04]\n"
     ]
    }
   ],
   "source": [
    "# The coefficients\n",
    "\n",
    "print('Coefficients: \\n', regr.coef_)"
   ]
  },
  {
   "cell_type": "code",
   "execution_count": 89,
   "metadata": {},
   "outputs": [
    {
     "name": "stdout",
     "output_type": "stream",
     "text": [
      "Mean squared error: 352005.89\n"
     ]
    }
   ],
   "source": [
    "# The mean squared error\n",
    "rmse_lm = mean_squared_error(y_test, y_pred)**(1/2)\n",
    "print('Mean squared error: %.2f' % rmse_lm)"
   ]
  },
  {
   "cell_type": "code",
   "execution_count": 90,
   "metadata": {
    "scrolled": true
   },
   "outputs": [
    {
     "name": "stdout",
     "output_type": "stream",
     "text": [
      "Variance score: 0.20\n"
     ]
    }
   ],
   "source": [
    "# Explained variance score: 1 is perfect prediction\n",
    "print('Variance score: %.2f' % r2_score(y_test, y_pred))"
   ]
  },
  {
   "cell_type": "code",
   "execution_count": 91,
   "metadata": {},
   "outputs": [
    {
     "data": {
      "image/png": "[encoded data removed]",
      "text/plain": [
       "<Figure size 1440x720 with 1 Axes>"
      ]
     },
     "metadata": {},
     "output_type": "display_data"
    }
   ],
   "source": [
    "# Plot outputs\n",
    "plt.figure(figsize=(20, 10))\n",
    "plt.scatter(y_test, y_pred, color='black')\n",
    "plt.plot([y_test.min(), y_test.max()], [y_test.min(), y_test.max()], 'k--', lw=4, color='blue')\n",
    "\n",
    "plt.ylabel('Predicted')\n",
    "plt.xlabel('Measured')\n",
    "\n",
    "plt.xticks(())\n",
    "plt.yticks(())\n",
    "\n",
    "plt.show()"
   ]
  },
  {
   "cell_type": "code",
   "execution_count": 92,
   "metadata": {},
   "outputs": [
    {
     "data": {
      "text/plain": [
       "['regr.pkl']"
      ]
     },
     "execution_count": 92,
     "metadata": {},
     "output_type": "execute_result"
    }
   ],
   "source": [
    "# Download model as pkl file\n",
    "import joblib\n",
    "joblib.dump(regr, 'regr.pkl')"
   ]
  },
  {
   "cell_type": "code",
   "execution_count": null,
   "metadata": {},
   "outputs": [],
   "source": []
  }
 ],
 "metadata": {
  "kernelspec": {
   "display_name": "Python 3",
   "language": "python",
   "name": "python3"
  },
  "language_info": {
   "codemirror_mode": {
    "name": "ipython",
    "version": 3
   },
   "file_extension": ".py",
   "mimetype": "text/x-python",
   "name": "python",
   "nbconvert_exporter": "python",
   "pygments_lexer": "ipython3",
   "version": "3.8.1"
  }
 },
 "nbformat": 4,
 "nbformat_minor": 4
}
